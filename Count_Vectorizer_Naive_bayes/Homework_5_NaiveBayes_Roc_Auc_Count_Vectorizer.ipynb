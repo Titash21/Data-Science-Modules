{
 "cells": [
  {
   "cell_type": "markdown",
   "metadata": {},
   "source": [
    "\n",
    "# Introduction to Data Science\n",
    "## Homework 5- Naive Bayes, Count Vectorizer, ROC_AUC_Curve"
   ]
  },
  {
   "cell_type": "markdown",
   "metadata": {},
   "source": [
    "    Student Name: Titash Mandal\n",
    "\n",
    "    Student Netid:tm2761\n",
    "***"
   ]
  },
  {
   "cell_type": "markdown",
   "metadata": {},
   "source": [
    "### Part 1: Naive Bayes (5 Points)"
   ]
  },
  {
   "cell_type": "markdown",
   "metadata": {},
   "source": [
    "1\\. From your reading you know that the naive Bayes classifier works by calculating the conditional probabilities of each feature, $e_i$, occuring with each class $c$ and treating them independently. This results in the probability of a certain class occuring given a set of features, or a piece of evidence, $E$, as\n",
    "\n",
    "$$P(c \\mid E) = \\frac{p(e_1 \\mid c) \\cdot p(e_2 \\mid c) \\cdot \\cdot \\cdot p(e_k \\mid c) \\cdot p(c)}{p(E)}.$$\n",
    "\n",
    "The conditional probability of each piece of evidence occuring with a given class is given by\n",
    "\n",
    "$$P(e_i \\mid c) = \\frac{\\text{count}(e_i, c)}{\\text{count}(c)}.$$\n",
    "\n",
    "In the above equation $\\text{count}(e_i, c)$ is the number of documents in a given class that contain feature $e_i$ and $\\text{count}(c)$ is the number of documents that belong to class $c$. \n",
    "\n",
    "A common variation of the above is to use Laplace (sometimes called +1) smoothing. Recall the use of Laplace smoothing introduced toward the end of Chapter 3 in the section Probability Estimation. This is done in sklearn by setting `alpha=1` in the `BernoulliNB()` function (this is also the default behavior). The result of Laplace smoothing will slightly change the conditional probabilities,\n",
    "\n",
    "$$P(e_i \\mid c) = \\frac{\\text{count}(e_i, c) + 1}{\\text{count}(c) + 2}.$$\n",
    "\n",
    "In no more than **one paragraph**, describe why this is useful, and use the bias-variance tradeoff to justify its use. Try to think of a case when not using Laplace smoothing would result in \"bad\" models. Try to give an example. Be precise."
   ]
  },
  {
   "cell_type": "markdown",
   "metadata": {},
   "source": [
    "<font color=\"blue\"><h1>Answer</h1></font><p><font color=\"green\">The bias-variance tradeoff indicates how accurate a classifer is at modeling different training sets. The variance of a classifier indicates how much its decisions are affected by small changes in training sets. Naive Bayes is a simple model with low-variance and high-bias which is likely to produce the same classification decision even from slightly different training data. Because of low-variance Naive Bayes model tends to generalize so well that it may not have sufficient accuracy.</font> \n",
    "\n",
    "\n",
    "\n",
    "<p>For Example:  In a spam detection classifier, our task is to categorize an email as a <b>SPAM or NOT A SPAM (HAM).</b> <font color=\"blue\"><p>Let our vocabulary be: <p>(w1,w2,...,wn) where 1<=n<=30</p><p>Let the new email to classify have the words: (w1,w3,w7,w10,s) </font></p> \n",
    "\n",
    "<p>Now, since this word s is not present in the vocabulary, its count is 0.</p>\n",
    "\n",
    "<b><p>P(s|Ham)=P(s|Spam)=0\n",
    "Suddenly,</p></b>\n",
    "\n",
    "<b><p>P(w1,w3,w7,w10,s|Ham)=P(w1,w3,w7,w10,s|Ham)∗P(s|Ham)=0\n",
    "and</p></b>\n",
    "<b><p>P(w1,w3,w7,w10,s|Spam)=P(w1,w3,w7,w10,s|Spam)∗P(s|Spam)=0\n",
    "</p></b>\n",
    "<p> This email might have other words w1,w3,w7,w10 which have strong factors to classify it as spam or not spam. However, due to the absense of one word in the vocabulary, the result varies widely. This is a problem in real life data science which can be resolved by the <b>Laplace Smoothing.</b> The Laplace smoothing adds a 1 to the numerator and a different factor to the denominator to remove the effect of any new word coming with the test dataset, which keeps the variance low and tries to classify the emails with better accuracy.</p>"
   ]
  },
  {
   "cell_type": "markdown",
   "metadata": {},
   "source": [
    "### Part 2: Text classification for sentiment analysis (20 Points)\n",
    "For this part of the assignment, we are going to use a data set of movie ratings from IMDB.com. The data consists of the text of a movie review and a target variable which tells us whether the reviewer had a positive feeling towards the movie (equivalent to rating the movie between 7 and 10) or a negative feeling (rating the movie between 1 and 4). Neutral reactions are not included in the data.\n",
    "\n",
    "The data are located in \"`data/imdb.csv`\". The first column is the review text; the second is the text label 'P' for positive or 'N' for negative."
   ]
  },
  {
   "cell_type": "markdown",
   "metadata": {},
   "source": [
    "1 (1 Point) \\. Load the data into a pandas `DataFrame()`."
   ]
  },
  {
   "cell_type": "code",
   "execution_count": 3,
   "metadata": {},
   "outputs": [
    {
     "name": "stdout",
     "output_type": "stream",
     "text": [
      "NaN values?  1\n",
      "NaN values after removing?  0\n"
     ]
    }
   ],
   "source": [
    "import pandas as pd\n",
    "data =pd.read_csv(\"imdb.csv\")\n",
    "#Checking to see if there are NaN values in the dataframe's \"Class\" column\n",
    "#We can remove it as it's neither P or N and will not be useful for text mining.\n",
    "print(\"NaN values? \",data['Class'].isnull().sum())\n",
    "data=data.dropna(subset=['Class'])\n",
    "print(\"NaN values after removing? \",data['Class'].isnull().sum())\n"
   ]
  },
  {
   "cell_type": "markdown",
   "metadata": {},
   "source": [
    "2 (1 Point)\\. Code the target variable to be numeric: use the value `1` to represent 'P' and `0` to represent 'N'."
   ]
  },
  {
   "cell_type": "code",
   "execution_count": 2,
   "metadata": {
    "collapsed": true
   },
   "outputs": [],
   "source": [
    "# Code here\n",
    "data.loc[data['Class']=='P','Class']=1\n",
    "data.loc[data['Class']=='N','Class']=0\n",
    "\n",
    "#len(data[data['Class']==0])"
   ]
  },
  {
   "cell_type": "markdown",
   "metadata": {},
   "source": [
    "3 (2 Points)\\. Put all of the text into a data frame called `X` and the target variable in a data frame called `Y`. Make a train/test split where you give 75% of the data to training. Feel free to use any function from sklearn."
   ]
  },
  {
   "cell_type": "code",
   "execution_count": 3,
   "metadata": {},
   "outputs": [
    {
     "name": "stderr",
     "output_type": "stream",
     "text": [
      "/Users/titashmandal/anaconda3/lib/python3.6/site-packages/sklearn/cross_validation.py:41: DeprecationWarning: This module was deprecated in version 0.18 in favor of the model_selection module into which all the refactored classes and functions are moved. Also note that the interface of the new CV iterators are different from that of this module. This module will be removed in 0.20.\n",
      "  \"This module will be removed in 0.20.\", DeprecationWarning)\n"
     ]
    }
   ],
   "source": [
    "from sklearn.cross_validation import train_test_split\n",
    "#putting all of the text into a data frame called X\n",
    "X = data['Text']\n",
    "#target variable in a data frame called Y\n",
    "Y = data['Class']\n",
    "#We will be passing these values to the classifiers which expects categorical values as the target vector.\n",
    "#The 0's and 1's we had added were noy of integer format so we need to change it to that format.\n",
    "#We need to convert it to int it so so it will be accepted as input.\n",
    "Y=Y.astype('int')\n",
    "\n",
    "X_train, X_test, Y_train, Y_test = train_test_split(X,Y, test_size=0.25)\n"
   ]
  },
  {
   "cell_type": "markdown",
   "metadata": {},
   "source": [
    "4 (5 Points)\\. Create a binary `CountVectorizer()` and a binary `TfidfVectorizer()`. Use the original single words as well as bigrams (in the same model). Also, use an \"english\" stop word list. Fit these to the training data to extract a vocabulary and then transform both the train and test data. Hint - look at the API documentation for both vectorizers to see what we mean by \"binary.\"\n"
   ]
  },
  {
   "cell_type": "code",
   "execution_count": 4,
   "metadata": {
    "collapsed": true
   },
   "outputs": [],
   "source": [
    "from sklearn.feature_extraction.text import CountVectorizer\n",
    "from sklearn.feature_extraction.text import TfidfVectorizer\n",
    "\n",
    "#creating a binary countVectorizer to transform the text to numbers so that the ML algorithm can work on it.\n",
    "sklearn_CV=CountVectorizer(binary=True,stop_words='english')\n",
    "#This first creates a dictionary of vocabulary of words\n",
    "x_trainCV=sklearn_CV.fit_transform(X_train)\n",
    "#Using the vocabulary to create co-ordinate format matrix of words which stores a list of (row, column, value) tuples.\n",
    "#this is the sparse matrix which stores counts of each word in the test data set based on the vocabulary from the train data set supplied.\n",
    "x_testCV=sklearn_CV.transform(X_test)\n",
    "\n",
    "\n",
    "#Creating a binary TfidfVectorizer()\n",
    "#Smooth idf(default=True) weights by adding one to document frequencies, as if an extra document was seen containing every term in the collection exactly once. Prevents zero divisions.\n",
    "sklearn_tfidf = TfidfVectorizer(binary=True,stop_words='english')\n",
    "x_train_tfidf=sklearn_tfidf.fit_transform(X_train)\n",
    "x_test_tfidf = sklearn_tfidf.transform(X_test)\n",
    "\n"
   ]
  },
  {
   "cell_type": "markdown",
   "metadata": {},
   "source": [
    "<html><h1>References</h1>\n",
    "<p><a href=\"https://en.wikipedia.org/wiki/Tf%E2%80%93idf\">Term Frequency and Inverse Document Frequency</a>\n",
    "<p><a href=\"https://www.youtube.com/watch?v=bPYJi1E9xeM\">Video Tutorial</a></p>\n",
    "<p><a href=\"http://blog.christianperone.com/2011/09/machine-learning-text-feature-extraction-tf-idf-part-i/\"> Blog Tutorial</a></p>\n",
    "</p></html>"
   ]
  },
  {
   "cell_type": "markdown",
   "metadata": {},
   "source": [
    "5 (6 Points)\\. Create `LogisticRegression()` and `BernoulliNB()` models. For all settings, keep the default values. In a single plot, show the AUC curve for both classifiers and both vectorizers defined above. In the legend, include the area under the ROC curve (AUC). Do not forget to label your axes. Your final plot will be a single window with 4 curves.\n",
    "\n",
    "Which model do you think does a better job? Why? Explain in no more than a paragraph.\n",
    "\n",
    "Extra credit (2 points): Do any of the options perform identically? If so, can you explain why?"
   ]
  },
  {
   "cell_type": "code",
   "execution_count": 6,
   "metadata": {
    "collapsed": true
   },
   "outputs": [],
   "source": [
    "# Run this so your plots show properly\n",
    "import matplotlib.pyplot as plt\n",
    "%matplotlib inline\n",
    "plt.rcParams['figure.figsize'] = 12, 12"
   ]
  },
  {
   "cell_type": "code",
   "execution_count": 7,
   "metadata": {},
   "outputs": [
    {
     "data": {
      "image/png": "[encoded data removed]",
      "text/plain": [
       "<matplotlib.figure.Figure at 0x1028de6a0>"
      ]
     },
     "metadata": {},
     "output_type": "display_data"
    }
   ],
   "source": [
    "from sklearn.metrics import roc_auc_score, roc_curve, auc\n",
    "import numpy as np\n",
    "from sklearn.linear_model import LogisticRegression\n",
    "from sklearn.naive_bayes import BernoulliNB\n",
    "from sklearn import metrics\n",
    "\n",
    "#making a logistic regression model and a NB model\n",
    "logisticR=LogisticRegression()\n",
    "bernoulliNB=BernoulliNB()\n",
    "\n",
    "def roc_auc_curve_fitter(model,labels):\n",
    "    for vectorizer in [(x_trainCV,x_testCV,\"CountVectorizer\"),(x_train_tfidf,x_test_tfidf,\"tfidf\")]:\n",
    "        model.fit(vectorizer[0],Y_train)\n",
    "        prediction=model.predict_proba(vectorizer[1])[:, 1]\n",
    "        fpr, tpr, thresholds = metrics.roc_curve(Y_test,prediction)\n",
    "        auc_test= metrics.roc_auc_score(Y_test,prediction)\n",
    "        c = (np.random.rand(), np.random.rand(), np.random.rand())\n",
    "        plt.plot(fpr, tpr, label=labels + \" (\" + vectorizer[2] + \") AUC = \" + str(round(auc_test, 4)))\n",
    "        plt.xlabel(\"FPR\")\n",
    "        plt.ylabel(\"TPR\")\n",
    "        plt.title(\"ROC Curve\")\n",
    "        plt.legend(loc=\"lower right\")\n",
    "        \n",
    "    \n",
    "roc_auc_curve_fitter(logisticR,\"LR\")\n",
    "roc_auc_curve_fitter(bernoulliNB,\"NB\")\n",
    "\n"
   ]
  },
  {
   "cell_type": "code",
   "execution_count": 8,
   "metadata": {},
   "outputs": [
    {
     "name": "stdout",
     "output_type": "stream",
     "text": [
      "1    1070\n",
      "0    1055\n",
      "Name: Class, dtype: int64\n",
      "Null accuracy: 1    50.352941\n",
      "Name: Class, dtype: float64\n",
      "Manual null accuracy: 50.72941176470588\n"
     ]
    }
   ],
   "source": [
    "#Printing the number of 0's and 1's ie the number of positive and negative classes.\n",
    "print(Y_test.value_counts())\n",
    "# calculate null accuracy (for multi-class classification problems)\n",
    "# .head(1) assesses the value 1092\n",
    "null_accuracy = Y_test.value_counts().head(1) / len(Y_test)\n",
    "print('Null accuracy:', null_accuracy*100)\n",
    "\n",
    "# Manual calculation of null accuracy by always predicting the majority class\n",
    "print('Manual null accuracy:',(1070 / (1070 + 1055))*100)"
   ]
  },
  {
   "cell_type": "markdown",
   "metadata": {},
   "source": [
    "<h2>Which of the two models is generally better at ranking the test set?</h2>\n",
    "<br></br>\n",
    "<font color='blue'><p>An ROC curve is the most commonly used way to visualize the performance of a binary classifier, and AUC is (arguably) the best way to summarize its performance in a single number.</p></font>\n",
    "<font color=\"green\"><p>Here we are comparing the Logistic Regression model with the Bernoulli Naive Bayes model. We have seen that the AUC score for LR for the TF-IDF MODEL is the highest. Hence the LR model performs better at ranking the test set. The logistic regression estimates the probability(y/x) directly from the training data by minimizing error. Hence this is a Discriminative model. Naive Bayes assumes all the features are conditionally independent and so, if some of the features are dependent on each other, the prediction might be poor.\n",
    "Logistic regression however splits the feature space linearly, it works better even if some of the variables are correlated </p></font>\n",
    "\n",
    "<font color=\"red\"><p>The Naive Bayes gives identical performance for both the CountVectorizer and the TF-IDF model. Naive Bayes calculates the conditional probability ie it chooses the output label y to assign an input x, choosing the y that maximizes P(y|x). In general if there are more positive words in the test dataset, it will label them as P ie 1 else 0 ie negative. It mainly depends on the test dataset. Also Naive Bayes is a low-variance and high-bias model. Hence with different ways to process the data, it gives very close results of accuracy ( similar accuracy in this case). Hence it gives the same result despite using CountVectorizer or TF-IDF model.</p></font>\n",
    "    "
   ]
  },
  {
   "cell_type": "markdown",
   "metadata": {},
   "source": [
    "<h1>References</h1>\n",
    "<p><a href=\"http://www.dataschool.io/roc-curves-and-auc-explained/\">Video tutorial</a></p>\n",
    "<p><a href=\"http://sebastianraschka.com/Articles/2014_naive_bayes_1.html\">Blog</a></p>"
   ]
  },
  {
   "cell_type": "markdown",
   "metadata": {
    "collapsed": true
   },
   "source": [
    "5\\. Use the model from question 4 that you think did the best job and predict the rating of the test data. Find 5 examples the should have been positive, but were incorrectly classified as negative. Print out the reviews below and include an explanation as to why you think it may have been incorrectly classified. You can pick any 5. They do not have to be at random."
   ]
  },
  {
   "cell_type": "code",
   "execution_count": 53,
   "metadata": {
    "collapsed": true
   },
   "outputs": [],
   "source": [
    "logisticR=LogisticRegression()\n",
    "logisticR.fit(x_train_tfidf,Y_train)\n",
    "prediction=logisticR.predict(x_test_tfidf)\n",
    "count=0\n",
    "incorrect=[]\n",
    "Y_test_list=Y_test.sort_index().tolist()\n",
    "\n",
    "X_test_list=X_test.sort_index().tolist()\n",
    "for i in range(len(prediction)):\n",
    "    #examples that should have been positive, but were incorrectly classified as negative.\n",
    "    if(prediction[i]!=1 and Y_test_list[i]==1 and count<=5 ):\n",
    "        count+=1\n",
    "        incorrect.append(X_test_list[i])\n",
    "    elif(count==5):\n",
    "        break\n",
    "\n"
   ]
  },
  {
   "cell_type": "markdown",
   "metadata": {},
   "source": [
    "<html>Another method to print the incorrect predictions:</html>"
   ]
  },
  {
   "cell_type": "code",
   "execution_count": 52,
   "metadata": {},
   "outputs": [
    {
     "data": {
      "text/plain": [
       "0                                                     NaN\n",
       "3                                                     NaN\n",
       "4                                                     NaN\n",
       "5       'There is no greater disservice to do to histo...\n",
       "6                                                     NaN\n",
       "8                                                     NaN\n",
       "9                                                     NaN\n",
       "11                                                    NaN\n",
       "14                                                    NaN\n",
       "15      'I appreciate movies like this: smart and well...\n",
       "16      'When I read the summary of the movie somethin...\n",
       "17                                                    NaN\n",
       "18                                                    NaN\n",
       "19                                                    NaN\n",
       "20      'Im really suprised this movie didnt get a hig...\n",
       "21                                                    NaN\n",
       "22                                                    NaN\n",
       "23                                                    NaN\n",
       "24                                                    NaN\n",
       "25      'What if Marylin Monroe Albert Einstein Joe Di...\n",
       "27      'A surprisingly good movie! It has quite a few...\n",
       "28                                                    NaN\n",
       "29                                                    NaN\n",
       "30      'The Fiendish Plot of Dr. Fu Manchu starring P...\n",
       "31                                                    NaN\n",
       "32                                                    NaN\n",
       "33                                                    NaN\n",
       "34                                                    NaN\n",
       "35                                                    NaN\n",
       "36                                                    NaN\n",
       "                              ...                        \n",
       "1034                                                  NaN\n",
       "1036                                                  NaN\n",
       "1037                                                  NaN\n",
       "1038                                                  NaN\n",
       "1039                                                  NaN\n",
       "1040                                                  NaN\n",
       "1041    'And yet another run of South Park comes to an...\n",
       "1043                                                  NaN\n",
       "1044                                                  NaN\n",
       "1045    'For those of you who have read Rohinton Mistr...\n",
       "1046                                                  NaN\n",
       "1047                                                  NaN\n",
       "1048                                                  NaN\n",
       "1049    'The movie held my interest mainly because Dia...\n",
       "1050    'I came home late one night and turned on the ...\n",
       "1052                                                  NaN\n",
       "1053                                                  NaN\n",
       "1054    'Surprisingly enough does movie does have some...\n",
       "1055                                                  NaN\n",
       "1056    'I have seen romantic comedies and this is one...\n",
       "1057                                                  NaN\n",
       "1059                                                  NaN\n",
       "1060                                                  NaN\n",
       "1061    'In Christian Duguays movie Hitler: The Rise o...\n",
       "1062                                                  NaN\n",
       "1063    'Pet Sematary  though a nice 80s Horror movie ...\n",
       "1064                                                  NaN\n",
       "1067    'This movie is amazing. The plot was just...wo...\n",
       "1068                                                  NaN\n",
       "1069                                                  NaN\n",
       "Name: Text, Length: 930, dtype: object"
      ]
     },
     "execution_count": 52,
     "metadata": {},
     "output_type": "execute_result"
    }
   ],
   "source": [
    "import numpy as np\n",
    "model = LogisticRegression()\n",
    "\n",
    "model.fit(x_train_tfidf, Y_train)\n",
    "predictions = model.predict(x_test_tfidf)\n",
    "\n",
    "Y_test.sort_index()\n",
    "positive_locations = np.where(Y_test == 1)[0]\n",
    "wrong_entries = np.where(predictions[positive_locations] != Y_test[positive_locations])[0]\n",
    "\n",
    "X_test[wrong_entries]"
   ]
  },
  {
   "cell_type": "markdown",
   "metadata": {},
   "source": [
    "<h1>List of 5 examples the should have been positive, but were incorrectly classified as negative.</h1>"
   ]
  },
  {
   "cell_type": "code",
   "execution_count": 50,
   "metadata": {},
   "outputs": [
    {
     "name": "stdout",
     "output_type": "stream",
     "text": [
      "'There is no greater disservice to do to history than to misrepresent it. This takes the easiest and most shallow route simply portraying him as a monster. Only showing his negative sides and exaggerating them. Those who are ignorant of the past doom us to repeat it. He was a human being. That may prove tough to some people to accept but an important part of life is facing that which we dont want to. Rather than demonizing the man we ought to try to understand him. Otherwise we stand little chance of preventing anyone similar in the future or possibly even the present from succeeding at anything of remotely comparable scope as far as damage and misery goes. Hate him and what he did dont make him into something mythical intentionally or otherwise. Frankly far too much of this mini-series could play dumb dumb *duuum*! after or during scenes. The whole thing nods nudges and winks at the audience with a clear message of was this guy evil or what incorporating every single bad trait(as well as making up several that go directly against who and what he was) letting them appear more or less out of nowhere and having them be constant throughout his life not something he came to believe or claimed to. This should never be used to educate. Use Der Untergang(Downfall in English) and maybe point out the few inaccuracies of that instead. This this is disrespectful to the actual events that took place and to any and all survivors not to mention those who died. The cinematic quality? Top-notch. Its well-done through and through excellent production values a solid arc to the well-told plot what characterization does occur is strong and credible dialog and script are great all acting performances are masterful(Carlyle looks and behaves the role... as it was written... perfectly) the music is well-composed cinematography and editing are flawless and creative and this is definitely dramatic entertaining and riveting. They get dates and many occurrences and do them justice. If I had been offered to work on this and did not feel I could be objective enough to have Hitler appear as a fully fleshed-out person I would have declined citing that as the reason. I dont blame anyone for loathing him. How can you forgive what he did and are we sure that we should? That is not what I am suggesting. Finally let me point out that as I write this we are in a world-wide economic crisis that has lasted for about two years and that is not terribly dissimilar to the stock market crash of 1929. The two reasons it hasnt led to a depression of the new millennium are as follows: governments are giving money to the banks to keep the market going and the majority of the countries is now friendly towards one another. Apart from that the lesson hadnt been learned. Hopefully it has now. Back to this... my suggestion? Read a book non-fiction dealing with the subject. There are plenty of informative smart ones. The DVD holds a trailer. I recommend this only to those who know better and vehemently urge anyone who has watched it to seek out the truth. 8/10'\n",
      "\n",
      "'I appreciate movies like this: smart and well-crafted entertaining absorbing well-acted and nicely directed. Nobody -- even Pacino -- is chewing the scenery* trying to stand out; one of the films most effective moments (Aielo pulling over at his beloved off ramp) is chilling precisely because of its restraint. Not as good as say QUIZ SHOW CITY HALL is of a similar cloth: engaging the mind as well as eye ear and heart. Why such well-hewn entertainment flops at the box office is anybodys guess. *You know Pacino does chew it up in one particular scene but precisely because its required. Great scene too.'\n",
      "\n",
      "'What if Marylin Monroe Albert Einstein Joe Dimaggio and Senator McCarthy were to come together in a mind-bending evening of relativity? This delightful roman à clef never uses the actual names of the characters it so thinly veils and scathingly exposes not only for the individuals they must have been but also for what they came to represent over time. If you are confused by allegory or if you like your movies served up predigested and mushy you wont like this film. It is a demanding opus that rewards on many levels the viewer with the intelligence to appreciate it.  Dropping for the time being the rigorous avoidance of using the real names of the characters we see Einstein about to deliver a pacifist speech to a United Nations hell-bent for nukes being visited by Marylin Monroe after filming the notorious Seven Year Itch scene that some say led to the end of her marriage with Joe Dimaggio. They have a lovely interplay in which Einstein stumbles with suitable professorial clumsiness around the innocence of perhaps the greatest sex symbol of modern times.  Enter Senator McCarthy who thinks Einstein is a Red. He is determined to extract Einsteins assurance that he will support the activities of the House Unamerican Activities Committee while delivering the ultimate weapon in the name of peace. Add Joe a surprisingly fragile and vulnerable person perhaps not perfectly cast as Gary Busey who hates Marylins exhibitionism and believes Einstein has become her lover even though Marylin only wants to show Einstein that she understands the Special Theory of Relativity.  But theres more.  Just like each of us these characters have their deepest fears which they reveal one by one in haunting flashbacks. It is these weaknesses ultimately that lend humanity to figures we cannot help but see almost exclusively in the abstract today. Finally we see the shocking terror of Einsteins vision and the statement of the movie becomes clear. It is a powerful and memorable moment. Insignificance is one of my top five movies of all time. It is utterly amazing.'\n",
      "\n",
      "'A surprisingly good movie! It has quite a few good jokes thru out the whole movie. The only negative thing is that some scenes go to the extremes to show just how stupid the two main characters are. We get it stupid blondes get on with it!  The plot just barely dodges being called corny. And boobies are always a plus altho the movie for some strange reason doesnt play with that card very much even tho the plot line introduces two black haired women who act as the evil counter part of our two blondes. So all in all a good movie to watch. I almost gave it an 8/10 but lets not get crazy.'\n",
      "\n",
      "'A very gritty gutsy portrayal of a part of world war 2 history that most of us in the U.S. had/have no idea ever occurred. I would love to have this on video. It only was shown on t.v. one time as far as I know back in 89or 90. I have asked around for this movie and most video stores dont even know about it. Great actresses all around Wish that I could see it again. Top notch series.'\n",
      "\n",
      "'Every time I see Nicole I like her more. I love a movie like this. A woman you just wont give up on but she keeps breaking your heart. First movie I remember seeing like this was Of Human Bondage the Kim Novak - Laurence Harvey version. The beefs about the correctness of the Russian spoken in this film are petty it was good enough to fool me or anybody else who cant speak Russian Im sure. Funny how people miss the point. The no-goodnik Russian guys were well cast too. Finally I have to tip my hat to Ben Chaplin as somebody else noted he plays a sap with great dignity and there was definitely some heat between him and Nicole. To think guys get PAID for that mind-blowing.'\n",
      "\n"
     ]
    }
   ],
   "source": [
    "for item in incorrect:\n",
    "    print(item)\n",
    "    print()"
   ]
  },
  {
   "cell_type": "markdown",
   "metadata": {},
   "source": [
    "<font color=\"red\"><h1>WHY DOES THIS HAPPEN?</h1></font>\n",
    "<p>Logistic regression is trained with <b>conditional maximum likelihood estimation.</b>\n",
    "This means we choose the parameters w that maximize the (log) probability of the y\n",
    "labels in the training data given the observations x. If we have multiple occurences of a word or feature in the test dataset, then we multiply the word's weight factor with the number of times it occurs in the dataset. In these examples if the word's which are negative have a greater total weight attached with them, they will cause the dataset to be labeled as negative instead of positive. Hence the observed discrepancy. Every model has sensitivity and specificity. They are characteristics which help us determine the performance of a model.\n",
    "</p>"
   ]
  },
  {
   "cell_type": "markdown",
   "metadata": {},
   "source": [
    "Explanation for the 5 reviews chosen here!"
   ]
  },
  {
   "cell_type": "code",
   "execution_count": null,
   "metadata": {
    "collapsed": true
   },
   "outputs": [],
   "source": []
  }
 ],
 "metadata": {
  "anaconda-cloud": {},
  "kernelspec": {
   "display_name": "Python 3",
   "language": "python",
   "name": "python3"
  },
  "language_info": {
   "codemirror_mode": {
    "name": "ipython",
    "version": 3
   },
   "file_extension": ".py",
   "mimetype": "text/x-python",
   "name": "python",
   "nbconvert_exporter": "python",
   "pygments_lexer": "ipython3",
   "version": "3.6.3"
  }
 },
 "nbformat": 4,
 "nbformat_minor": 1
}
