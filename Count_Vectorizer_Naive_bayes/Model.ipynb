{
 "cells": [
  {
   "cell_type": "markdown",
   "metadata": {},
   "source": [
    "Importing libraries"
   ]
  },
  {
   "cell_type": "code",
   "execution_count": 1,
   "metadata": {
    "collapsed": true
   },
   "outputs": [],
   "source": [
    "import csv\n",
    "import pandas as pd\n",
    "import numpy as np\n",
    "import sys\n",
    "from scipy import stats\n",
    "import matplotlib.pyplot as plt"
   ]
  },
  {
   "cell_type": "code",
   "execution_count": 2,
   "metadata": {},
   "outputs": [
    {
     "data": {
      "text/plain": [
       "Index(['npi', 'nppes_provider_last_org_name', 'nppes_provider_first_name',\n",
       "       'nppes_provider_mi', 'nppes_credentials', 'nppes_provider_gender',\n",
       "       'nppes_entity_code', 'nppes_provider_street1', 'nppes_provider_street2',\n",
       "       'nppes_provider_city', 'nppes_provider_zip5', 'nppes_provider_zip4',\n",
       "       'nppes_provider_state', 'nppes_provider_country',\n",
       "       'specialty_description', 'description_flag',\n",
       "       'medicare_prvdr_enroll_status', 'total_claim_count',\n",
       "       'total_30_day_fill_count', 'total_drug_cost', 'total_day_supply',\n",
       "       'bene_count', 'ge65_suppress_flag', 'total_claim_count_ge65',\n",
       "       'total_30_day_fill_count_ge65', 'total_drug_cost_ge65',\n",
       "       'total_day_supply_ge65', 'bene_count_ge65_suppress_flag',\n",
       "       'bene_count_ge65', 'brand_suppress_flag', 'brand_claim_count',\n",
       "       'brand_drug_cost', 'generic_suppress_flag', 'generic_claim_count',\n",
       "       'generic_drug_cost', 'other_suppress_flag', 'other_claim_count',\n",
       "       'other_drug_cost', 'mapd_suppress_flag', 'mapd_claim_count',\n",
       "       'mapd_drug_cost', 'pdp_suppress_flag', 'pdp_claim_count',\n",
       "       'pdp_drug_cost', 'lis_suppress_flag', 'lis_claim_count',\n",
       "       'lis_drug_cost', 'nonlis_suppress_flag', 'nonlis_claim_count',\n",
       "       'nonlis_drug_cost', 'opioid_claim_count', 'opioid_drug_cost',\n",
       "       'opioid_day_supply', 'opioid_bene_count', 'opioid_prescriber_rate',\n",
       "       'antibiotic_claim_count', 'antibiotic_drug_cost',\n",
       "       'antibiotic_bene_count', 'hrm_ge65_suppress_flag',\n",
       "       'hrm_claim_count_ge65', 'hrm_drug_cost_ge65',\n",
       "       'hrm_bene_ge65_suppress_flag', 'hrm_bene_count_ge65',\n",
       "       'antipsych_ge65_suppress_flag', 'antipsych_claim_count_ge65',\n",
       "       'antipsych_drug_cost_ge65', 'antipsych_bene_ge65_suppress_flg',\n",
       "       'antipsych_bene_count_ge65', 'average_age_of_beneficiaries',\n",
       "       'beneficiary_age_less_65_count', 'beneficiary_age_65_74_count',\n",
       "       'beneficiary_age_75_84_count', 'beneficiary_age_greater_84_count',\n",
       "       'beneficiary_female_count', 'beneficiary_male_count',\n",
       "       'beneficiary_race_white_count', 'beneficiary_race_black_count',\n",
       "       'beneficiary_race_asian_pi_count', 'beneficiary_race_hispanic_count',\n",
       "       'beneficiary_race_nat_ind_count', 'beneficiary_race_other_count',\n",
       "       'beneficiary_nondual_count', 'beneficiary_dual_count',\n",
       "       'beneficiary_average_risk_score'],\n",
       "      dtype='object')"
      ]
     },
     "execution_count": 2,
     "metadata": {},
     "output_type": "execute_result"
    }
   ],
   "source": [
    "data = pd.read_csv('Dataset.csv',nrows=200, encoding='utf-8')\n",
    "data = data[(data.nppes_provider_country)=='US']\n",
    "data.columns"
   ]
  },
  {
   "cell_type": "code",
   "execution_count": 3,
   "metadata": {},
   "outputs": [
    {
     "ename": "ValueError",
     "evalue": "labels ['pdp_claim_countpdp_drug_cost'] not contained in axis",
     "output_type": "error",
     "traceback": [
      "\u001b[1;31m---------------------------------------------------------------------------\u001b[0m",
      "\u001b[1;31mValueError\u001b[0m                                Traceback (most recent call last)",
      "\u001b[1;32m<ipython-input-3-089938e1b52f>\u001b[0m in \u001b[0;36m<module>\u001b[1;34m()\u001b[0m\n\u001b[0;32m     45\u001b[0m             \u001b[1;34m'antibiotic_drug_cost'\u001b[0m\u001b[1;33m,\u001b[0m\u001b[1;33m\u001b[0m\u001b[0m\n\u001b[0;32m     46\u001b[0m             \u001b[1;34m'antibiotic_bene_count'\u001b[0m\u001b[1;33m\u001b[0m\u001b[0m\n\u001b[1;32m---> 47\u001b[1;33m          ],axis = 1,inplace = True)\n\u001b[0m\u001b[0;32m     48\u001b[0m \u001b[1;33m\u001b[0m\u001b[0m\n\u001b[0;32m     49\u001b[0m \u001b[0mdata\u001b[0m\u001b[1;33m.\u001b[0m\u001b[0mindex\u001b[0m \u001b[1;33m=\u001b[0m \u001b[0mrange\u001b[0m\u001b[1;33m(\u001b[0m\u001b[0mlen\u001b[0m\u001b[1;33m(\u001b[0m\u001b[0mdata\u001b[0m\u001b[1;33m)\u001b[0m\u001b[1;33m)\u001b[0m\u001b[1;33m\u001b[0m\u001b[0m\n",
      "\u001b[1;32mC:\\Users\\sanke\\Anaconda3\\lib\\site-packages\\pandas\\core\\generic.py\u001b[0m in \u001b[0;36mdrop\u001b[1;34m(self, labels, axis, level, inplace, errors)\u001b[0m\n\u001b[0;32m   2048\u001b[0m                 \u001b[0mnew_axis\u001b[0m \u001b[1;33m=\u001b[0m \u001b[0maxis\u001b[0m\u001b[1;33m.\u001b[0m\u001b[0mdrop\u001b[0m\u001b[1;33m(\u001b[0m\u001b[0mlabels\u001b[0m\u001b[1;33m,\u001b[0m \u001b[0mlevel\u001b[0m\u001b[1;33m=\u001b[0m\u001b[0mlevel\u001b[0m\u001b[1;33m,\u001b[0m \u001b[0merrors\u001b[0m\u001b[1;33m=\u001b[0m\u001b[0merrors\u001b[0m\u001b[1;33m)\u001b[0m\u001b[1;33m\u001b[0m\u001b[0m\n\u001b[0;32m   2049\u001b[0m             \u001b[1;32melse\u001b[0m\u001b[1;33m:\u001b[0m\u001b[1;33m\u001b[0m\u001b[0m\n\u001b[1;32m-> 2050\u001b[1;33m                 \u001b[0mnew_axis\u001b[0m \u001b[1;33m=\u001b[0m \u001b[0maxis\u001b[0m\u001b[1;33m.\u001b[0m\u001b[0mdrop\u001b[0m\u001b[1;33m(\u001b[0m\u001b[0mlabels\u001b[0m\u001b[1;33m,\u001b[0m \u001b[0merrors\u001b[0m\u001b[1;33m=\u001b[0m\u001b[0merrors\u001b[0m\u001b[1;33m)\u001b[0m\u001b[1;33m\u001b[0m\u001b[0m\n\u001b[0m\u001b[0;32m   2051\u001b[0m             \u001b[0mdropped\u001b[0m \u001b[1;33m=\u001b[0m \u001b[0mself\u001b[0m\u001b[1;33m.\u001b[0m\u001b[0mreindex\u001b[0m\u001b[1;33m(\u001b[0m\u001b[1;33m**\u001b[0m\u001b[1;33m{\u001b[0m\u001b[0maxis_name\u001b[0m\u001b[1;33m:\u001b[0m \u001b[0mnew_axis\u001b[0m\u001b[1;33m}\u001b[0m\u001b[1;33m)\u001b[0m\u001b[1;33m\u001b[0m\u001b[0m\n\u001b[0;32m   2052\u001b[0m             \u001b[1;32mtry\u001b[0m\u001b[1;33m:\u001b[0m\u001b[1;33m\u001b[0m\u001b[0m\n",
      "\u001b[1;32mC:\\Users\\sanke\\Anaconda3\\lib\\site-packages\\pandas\\core\\indexes\\base.py\u001b[0m in \u001b[0;36mdrop\u001b[1;34m(self, labels, errors)\u001b[0m\n\u001b[0;32m   3573\u001b[0m             \u001b[1;32mif\u001b[0m \u001b[0merrors\u001b[0m \u001b[1;33m!=\u001b[0m \u001b[1;34m'ignore'\u001b[0m\u001b[1;33m:\u001b[0m\u001b[1;33m\u001b[0m\u001b[0m\n\u001b[0;32m   3574\u001b[0m                 raise ValueError('labels %s not contained in axis' %\n\u001b[1;32m-> 3575\u001b[1;33m                                  labels[mask])\n\u001b[0m\u001b[0;32m   3576\u001b[0m             \u001b[0mindexer\u001b[0m \u001b[1;33m=\u001b[0m \u001b[0mindexer\u001b[0m\u001b[1;33m[\u001b[0m\u001b[1;33m~\u001b[0m\u001b[0mmask\u001b[0m\u001b[1;33m]\u001b[0m\u001b[1;33m\u001b[0m\u001b[0m\n\u001b[0;32m   3577\u001b[0m         \u001b[1;32mreturn\u001b[0m \u001b[0mself\u001b[0m\u001b[1;33m.\u001b[0m\u001b[0mdelete\u001b[0m\u001b[1;33m(\u001b[0m\u001b[0mindexer\u001b[0m\u001b[1;33m)\u001b[0m\u001b[1;33m\u001b[0m\u001b[0m\n",
      "\u001b[1;31mValueError\u001b[0m: labels ['pdp_claim_countpdp_drug_cost'] not contained in axis"
     ]
    }
   ],
   "source": [
    "data.drop(['npi',\n",
    "           'nppes_provider_last_org_name',\n",
    "           'nppes_provider_first_name',\n",
    "           'nppes_provider_mi',\n",
    "           'nppes_provider_street1',\n",
    "           'nppes_provider_street2',\n",
    "           'nppes_provider_zip4',\n",
    "           'nppes_provider_country',\n",
    "           'description_flag',\n",
    "           'ge65_suppress_flag',\n",
    "           'total_claim_count_ge65',\n",
    "           'total_30_day_fill_count_ge65',\n",
    "           'total_drug_cost_ge65',\n",
    "           'total_day_supply_ge65',\n",
    "           'bene_count_ge65_suppress_flag',\n",
    "           'bene_count_ge65',\n",
    "           'mapd_suppress_flag',\n",
    "           'pdp_suppress_flag',\n",
    "           'lis_suppress_flag',\n",
    "           'nonlis_suppress_flag',\n",
    "           'opioid_prescriber_rate',\n",
    "           'hrm_ge65_suppress_flag',\n",
    "           'hrm_claim_count_ge65',\n",
    "           'hrm_drug_cost_ge65',\n",
    "           'hrm_bene_ge65_suppress_flag',\n",
    "           'hrm_bene_count_ge65',\n",
    "           'antipsych_ge65_suppress_flag',\n",
    "           'antipsych_claim_count_ge65',\n",
    "           'antipsych_drug_cost_ge65',\n",
    "           'antipsych_bene_ge65_suppress_flg',\n",
    "           'antipsych_bene_count_ge65',\n",
    "           'mapd_claim_count',                   \n",
    "           'mapd_drug_cost',                      \n",
    "           'pdp_claim_count'                     \n",
    "            'pdp_drug_cost',                      \n",
    "            'lis_claim_count',                      \n",
    "            'lis_drug_cost',                        \n",
    "            'nonlis_claim_count',                   \n",
    "            'nonlis_drug_cost',                     \n",
    "            'opioid_claim_count',                  \n",
    "            'opioid_drug_cost',                     \n",
    "            'opioid_day_supply',                    \n",
    "            'opioid_bene_count',                   \n",
    "            'antibiotic_claim_count',              \n",
    "            'antibiotic_drug_cost',                 \n",
    "            'antibiotic_bene_count'               \n",
    "         ],axis = 1,inplace = True)\n",
    "\n",
    "data.index = range(len(data))\n",
    "data.replace({',':'','\\$':''},regex= True,inplace = True)\n",
    "print(data.columns)"
   ]
  },
  {
   "cell_type": "markdown",
   "metadata": {},
   "source": [
    "Declaring descriptive attributes as strings"
   ]
  },
  {
   "cell_type": "code",
   "execution_count": null,
   "metadata": {
    "collapsed": true
   },
   "outputs": [],
   "source": [
    "data['nppes_provider_gender'] = data['nppes_provider_gender'].astype(str)\n",
    "data['nppes_entity_code'] = data['nppes_entity_code'].astype(str)\n",
    "data['nppes_provider_zip5'] = data['nppes_provider_zip5'].astype(str)\n",
    "data['nppes_provider_state'] = data['nppes_provider_state'].astype(str)\n",
    "data['specialty_description'] = data['specialty_description'].astype(str)\n",
    "data['total_claim_count'] = data['total_claim_count'].astype(float)\n",
    "data['beneficiary_race_white_count'] = data['beneficiary_race_white_count'].astype(float)\n",
    "\n"
   ]
  },
  {
   "cell_type": "code",
   "execution_count": null,
   "metadata": {
    "collapsed": true
   },
   "outputs": [],
   "source": [
    "data['nppes_provider_gender'] = data['nppes_provider_gender'].replace('nan','Org')\n",
    "import math\n",
    "print(math.isnan(data['nppes_credentials'][1]))"
   ]
  },
  {
   "cell_type": "markdown",
   "metadata": {},
   "source": [
    "Converting brand claim count to count for suppressed values"
   ]
  },
  {
   "cell_type": "code",
   "execution_count": null,
   "metadata": {
    "collapsed": true
   },
   "outputs": [],
   "source": [
    "data.dtypes"
   ]
  },
  {
   "cell_type": "code",
   "execution_count": null,
   "metadata": {
    "collapsed": true
   },
   "outputs": [],
   "source": [
    "data.head()"
   ]
  },
  {
   "cell_type": "code",
   "execution_count": null,
   "metadata": {
    "collapsed": true
   },
   "outputs": [],
   "source": [
    "temp = pd.DataFrame(columns=['Temp'])\n",
    "temp1 = []\n",
    "\n",
    "data['brand_adj']= pd.Series()\n",
    "\n",
    "for row in data.itertuples():\n",
    "        if(pd.notnull(row.brand_claim_count)):\n",
    "            data['brand_adj'].append(row.brand_claim_count)\n",
    "            \n"
   ]
  },
  {
   "cell_type": "code",
   "execution_count": 4,
   "metadata": {
    "collapsed": true
   },
   "outputs": [],
   "source": [
    "for index, row in data.iterrows():\n",
    "    if row.brand_suppress_flag == '*':\n",
    "        row['brand_claim_count']=1"
   ]
  },
  {
   "cell_type": "code",
   "execution_count": null,
   "metadata": {
    "collapsed": true
   },
   "outputs": [],
   "source": []
  },
  {
   "cell_type": "code",
   "execution_count": null,
   "metadata": {
    "collapsed": true
   },
   "outputs": [],
   "source": []
  }
 ],
 "metadata": {
  "kernelspec": {
   "display_name": "Python 3",
   "language": "python",
   "name": "python3"
  },
  "language_info": {
   "codemirror_mode": {
    "name": "ipython",
    "version": 3
   },
   "file_extension": ".py",
   "mimetype": "text/x-python",
   "name": "python",
   "nbconvert_exporter": "python",
   "pygments_lexer": "ipython3",
   "version": "3.6.3"
  }
 },
 "nbformat": 4,
 "nbformat_minor": 2
}
