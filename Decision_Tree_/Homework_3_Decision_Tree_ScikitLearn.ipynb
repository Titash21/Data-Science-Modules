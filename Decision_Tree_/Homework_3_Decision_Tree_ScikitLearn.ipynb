{
 "cells": [
  {
   "cell_type": "markdown",
   "metadata": {},
   "source": [
    "# Introduction to Data Science\n",
    "## Homework 3 - Implementing a Decision Tree in ScikitLearn and analysing it."
   ]
  },
  {
   "cell_type": "markdown",
   "metadata": {},
   "source": [
    "Student Name: Titash Mandal\n",
    "\n",
    "Student Netid: tm2761\n",
    "***"
   ]
  },
  {
   "cell_type": "markdown",
   "metadata": {},
   "source": [
    "### Part 1\n",
    "Assume that $X$ and $Y$ are discrete random variables. The formulas for Mutual Information, Entropy and Conditional Entropy are given by:\n",
    "\n",
    "$$\\text{Mutual Information} = \\sum_{y \\in Y} \\sum_{x \\in X} p(x, y) \\cdot log\\frac{p(x, y)}{p(x)p(y)}$$\n",
    "\n",
    "$$\\text{Entropy} = H(Y) = -\\sum_{y \\in Y} p(y) \\cdot log(p(y))$$\n",
    "\n",
    "$$\\text{Conditional Entropy} = H(Y \\mid X) = \\sum_{x \\in X} p(x) \\cdot H(Y \\mid X = x)$$\n",
    "\n",
    "Show mathematically that $\\text{Mutual Information} = \\text{Information Gain}$, where $\\text{Information Gain} = H(Y) – H(Y \\mid X)$. Give the derivation below (note, this can be done using Latek math notation, which renders nicely. See above. Feel free to do it by hand and submit an image of your proof)."
   ]
  },
  {
   "cell_type": "markdown",
   "metadata": {},
   "source": [
    "Place your answer here!\n"
   ]
  },
  {
   "cell_type": "markdown",
   "metadata": {},
   "source": [
    "### Part 2 - Preparing a Training Set and Training a Decision Tree\n",
    "This is a hands-on task where we build a predictive model using Decision Trees discussed in class. For this part, we will be using the data in `cell2cell_data.csv`.\n",
    "\n",
    "These historical data consist of 39,859 customers: 19,901 customers that churned (i.e., left the company) and 19,958 that did not churn (see the `\"churndep\"` variable). Here are the data set's 11 possible predictor variables for churning behavior: \n",
    "\n",
    "```\n",
    "Pos.  Var. Name  Var. Description\n",
    "----- ---------- --------------------------------------------------------------\n",
    "1     revenue    Mean monthly revenue in dollars\n",
    "2     outcalls   Mean number of outbound voice calls\n",
    "3     incalls    Mean number of inbound voice calls\n",
    "4     months     Months in Service\n",
    "5     eqpdays    Number of days the customer has had his/her current equipment\n",
    "6     webcap     Handset is web capable\n",
    "7     marryyes   Married (1=Yes; 0=No)\n",
    "8     travel     Has traveled to non-US country (1=Yes; 0=No)\n",
    "9     pcown      Owns a personal computer (1=Yes; 0=No)\n",
    "10    creditcd   Possesses a credit card (1=Yes; 0=No)\n",
    "11    retcalls   Number of calls previously made to retention team\n",
    "```\n",
    "\n",
    "The 12th column, the target variable `\"churndep\"`, equals 1 if the customer churned, and 0 otherwise. "
   ]
  },
  {
   "cell_type": "markdown",
   "metadata": {},
   "source": [
    "1\\. Load the data and prepare it for modeling. Note that the features are already processed for you, so the only thing needed here is split the data into training and testing. Use pandas to create two data frames: train_df and test_df, where train_df has 80% of the data chosen uniformly at random without replacement (test_df should have the other 20%). Also, make sure to write your own code to do the splits. You may use any random() function numpy but DO NOT use the data splitting functions from Sklearn."
   ]
  },
  {
   "cell_type": "code",
   "execution_count": 6,
   "metadata": {
    "collapsed": true
   },
   "outputs": [],
   "source": [
    "import pandas as pd\n",
    "import numpy as np\n",
    "#The csv file is in the same directory as the notebook.\n",
    "entire_dataFrame=pd.read_csv('cell2cell_data.csv')\n",
    "entire_dataFrame.columns = ['revenue', 'outcalls','incalls','months','eqpdays','webcap','marryyes','travel','pcown','creditcd','retcalls','churndep']\n"
   ]
  },
  {
   "cell_type": "markdown",
   "metadata": {},
   "source": [
    "<h1>Method-1</h1>\n",
    "<p> Using sample function to split the dataset into training and testing dataset</p>"
   ]
  },
  {
   "cell_type": "code",
   "execution_count": 8,
   "metadata": {},
   "outputs": [
    {
     "name": "stdout",
     "output_type": "stream",
     "text": [
      "       revenue  outcalls  incalls  months  eqpdays  webcap  marryyes  travel  \\\n",
      "3605     60.43     22.00     3.33      26      803       1         0       0   \n",
      "4848    137.25      6.00     2.33      13      397       1         0       0   \n",
      "17327    35.47      0.00     0.00      14      169       1         1       0   \n",
      "18865    88.59     55.67    44.33      29      170       1         0       0   \n",
      "39828   237.33    305.00   176.33      31       13       1         0       0   \n",
      "35585    77.92     49.00    15.67      13       68       1         0       0   \n",
      "4135     53.70     15.00    17.00      28      641       0         0       0   \n",
      "21657    34.99     40.33     2.67      26      782       1         0       0   \n",
      "21477    34.11      0.00     0.00      32      966       1         1       0   \n",
      "21938    42.31     72.67    25.00      28      221       1         0       0   \n",
      "5419     49.61     10.33     5.67      28      629       1         0       0   \n",
      "25645    61.94      0.00     0.00      12      340       1         0       0   \n",
      "38909    30.72      3.33     1.67      19       16       1         0       0   \n",
      "27772   118.51      8.67     0.33      10      292       1         0       0   \n",
      "21304   199.67     15.33     0.33      25      739       1         1       0   \n",
      "20240    17.69      0.00     0.67      39     1193       0         1       0   \n",
      "39405    36.92     40.00     1.33      35       97       1         0       0   \n",
      "13643    44.22      5.67     0.00      27      470       1         1       0   \n",
      "25985    52.07     13.33     5.33      16      498       1         1       0   \n",
      "31499    43.36     25.00    11.33       9      201       1         0       0   \n",
      "1120     34.42     16.00     0.00      42     1103       0         0       1   \n",
      "22148    24.46      2.67     0.00      28      856       1         0       0   \n",
      "13393    30.49      0.00     0.00      11      325       1         1       0   \n",
      "23992    19.99      0.00     0.00      18      518       1         0       0   \n",
      "4909     85.31     31.00     0.67      15      466       1         0       0   \n",
      "6342    134.30      2.67     6.00      11      322       1         0       0   \n",
      "38400    87.96     51.67    18.00      20       62       1         0       0   \n",
      "17065    48.83     35.00    16.33      13      211       1         0       0   \n",
      "20250   118.10     83.00     9.67      35     1061       0         0       0   \n",
      "18717    53.42     26.00     6.67      19      107       1         0       0   \n",
      "...        ...       ...      ...     ...      ...     ...       ...     ...   \n",
      "21475    30.62      3.67     0.67      43      893       0         0       0   \n",
      "6967     79.09     63.33     3.33      12      360       1         0       0   \n",
      "10129    81.09     99.67    10.33      20      371       1         0       0   \n",
      "32205    65.39     29.00     0.33       8      218       1         1       0   \n",
      "11645    67.41     12.67     7.33      13      367       1         0       0   \n",
      "27362    69.03     35.33     3.67      13      400       1         1       0   \n",
      "8341     75.92     58.33    11.33      16      487       1         0       0   \n",
      "8303     83.91     29.00    10.00      15      465       1         0       0   \n",
      "32096    32.49      8.67    12.67      26      378       1         0       0   \n",
      "5491     42.97      1.00     0.00      22      656       1         1       1   \n",
      "13479    30.38      0.00     0.00      10      313       1         1       0   \n",
      "7799     29.99      2.67     0.00      18      539       1         1       0   \n",
      "28815    34.99      0.00     0.00      13      385       1         1       1   \n",
      "3552     19.38      0.00     0.00      29      873       1         0       0   \n",
      "19120    62.75    211.33   113.33      15      335       1         0       0   \n",
      "1267     32.13     12.33     1.00      32      974       0         1       0   \n",
      "37399    76.85    103.33   138.00      20      409       1         0       0   \n",
      "11483   154.28     33.33    18.33      25      331       1         0       0   \n",
      "2625     30.00      4.67     0.00      23      688       0         0       0   \n",
      "4981     50.24      3.33     0.67      12      379       0         0       0   \n",
      "9422     62.10      4.00     1.33      14      423       1         0       0   \n",
      "29555    29.43     41.67    10.33       9      261       1         0       0   \n",
      "34926    89.00      7.67     0.67      20      220       1         0       0   \n",
      "34680    19.35     21.67    10.67       7      204       1         1       0   \n",
      "24818   125.00    119.00     5.67      10      299       1         0       0   \n",
      "37978    45.61     10.00     1.33      23      122       1         1       0   \n",
      "17645    51.36     14.67     5.33      34      351       1         1       0   \n",
      "12779   167.50    200.67    68.00      15      438       1         1       1   \n",
      "15475   102.20      3.33     4.00       8       51       1         0       0   \n",
      "9901     39.38     13.33     0.67      15      443       1         0       0   \n",
      "\n",
      "       pcown  creditcd  retcalls  churndep  \n",
      "3605       0         1         0         1  \n",
      "4848       0         0         0         1  \n",
      "17327      0         1         0         1  \n",
      "18865      0         0         0         1  \n",
      "39828      0         0         0         0  \n",
      "35585      0         0         0         0  \n",
      "4135       0         1         0         1  \n",
      "21657      0         0         0         0  \n",
      "21477      0         1         0         0  \n",
      "21938      0         1         1         0  \n",
      "5419       0         0         0         1  \n",
      "25645      0         0         0         0  \n",
      "38909      0         1         0         0  \n",
      "27772      0         1         0         0  \n",
      "21304      0         1         0         0  \n",
      "20240      0         1         0         0  \n",
      "39405      0         1         0         0  \n",
      "13643      0         1         0         1  \n",
      "25985      0         1         0         0  \n",
      "31499      0         0         0         0  \n",
      "1120       0         1         0         1  \n",
      "22148      0         1         0         0  \n",
      "13393      0         1         0         1  \n",
      "23992      0         0         0         0  \n",
      "4909       0         0         0         1  \n",
      "6342       0         0         0         1  \n",
      "38400      0         1         0         0  \n",
      "17065      0         1         0         1  \n",
      "20250      0         1         0         0  \n",
      "18717      0         1         0         1  \n",
      "...      ...       ...       ...       ...  \n",
      "21475      0         1         0         0  \n",
      "6967       0         0         0         1  \n",
      "10129      0         0         0         1  \n",
      "32205      0         1         0         0  \n",
      "11645      0         1         0         1  \n",
      "27362      0         1         0         0  \n",
      "8341       0         1         0         1  \n",
      "8303       0         1         0         1  \n",
      "32096      0         0         0         0  \n",
      "5491       1         1         0         1  \n",
      "13479      0         1         0         1  \n",
      "7799       1         1         0         1  \n",
      "28815      1         1         0         0  \n",
      "3552       0         1         0         1  \n",
      "19120      0         1         0         1  \n",
      "1267       0         1         0         1  \n",
      "37399      0         0         0         0  \n",
      "11483      0         0         0         1  \n",
      "2625       0         1         0         1  \n",
      "4981       0         1         0         1  \n",
      "9422       0         1         0         1  \n",
      "29555      0         0         0         0  \n",
      "34926      0         1         0         0  \n",
      "34680      1         1         0         0  \n",
      "24818      0         0         0         0  \n",
      "37978      0         1         0         0  \n",
      "17645      1         1         0         1  \n",
      "12779      1         1         0         1  \n",
      "15475      0         0         0         1  \n",
      "9901       0         1         0         1  \n",
      "\n",
      "[31886 rows x 12 columns]\n",
      "       revenue  outcalls  incalls  months  eqpdays  webcap  marryyes  travel  \\\n",
      "0        83.53     20.00     1.00      31      745       1         0       0   \n",
      "4         5.00      0.00     0.00      26      785       1         0       0   \n",
      "5         5.25      0.00     0.00      45     1354       0         0       0   \n",
      "6        26.84      4.00     1.33      49     1471       0         1       0   \n",
      "9        33.66      8.33     0.00      31      933       1         0       0   \n",
      "14       25.14     15.00     1.00      25      743       1         0       0   \n",
      "19       49.16      8.67     0.00      47     1434       0         1       0   \n",
      "20       69.11     18.00     2.67      48     1430       0         0       0   \n",
      "28       15.00      1.00     0.33      14      408       1         0       0   \n",
      "32      150.00      1.67     1.00      11      295       1         0       0   \n",
      "34       71.38      0.33     0.00      27      345       0         1       0   \n",
      "35       89.58     18.67    12.00      14      417       1         0       0   \n",
      "44       75.18     40.00    16.00      34     1030       0         0       0   \n",
      "56       20.07      0.00     0.00      38     1142       0         1       0   \n",
      "57       48.53      0.00     0.00      10      297       1         1       0   \n",
      "60       19.59      0.00     0.00      37     1117       0         0       0   \n",
      "71       23.12      2.33     4.00      36     1081       0         1       0   \n",
      "74        7.75      0.00     0.00      36     1072       0         0       0   \n",
      "79       35.24     17.00     2.00      14      278       1         1       0   \n",
      "88       34.22      4.33     0.00      33      953       0         1       0   \n",
      "89       41.31      1.00     0.00      31      922       0         0       0   \n",
      "94       36.75      0.00     0.00      29      889       0         1       0   \n",
      "97       29.99      2.67     0.33      35     1041       1         0       0   \n",
      "100      13.25      0.00     0.00      38      263       0         1       0   \n",
      "101      53.24      0.00     0.00      31      334       1         0       0   \n",
      "104      46.57      7.00     3.00      26      285       1         0       0   \n",
      "108      44.72    118.33    70.33      28      403       1         0       0   \n",
      "110      34.09      1.33     0.00      21      648       0         1       0   \n",
      "112      41.75      7.33     0.00      36     1088       1         1       0   \n",
      "126      50.44     17.67    12.67      35      773       0         0       0   \n",
      "...        ...       ...      ...     ...      ...     ...       ...     ...   \n",
      "39696    30.20      1.00     0.00      37       31       1         0       0   \n",
      "39701   169.40    190.67    94.33      39       83       1         0       0   \n",
      "39702    38.32     76.67     5.33      34        6       1         0       1   \n",
      "39716    64.96     19.67    14.00      50       60       1         0       0   \n",
      "39722    64.42    136.00   119.67      22      192       1         0       0   \n",
      "39724    51.03     12.00     2.00      43       65       1         1       1   \n",
      "39726   164.81    147.00   115.33      27      119       1         0       0   \n",
      "39731    77.37     57.33    45.67      34       68       1         0       0   \n",
      "39733    80.63     41.33     3.67      42       18       1         0       0   \n",
      "39738    42.18     79.67    39.67      39      137       1         0       0   \n",
      "39745    53.04     56.00    47.00      25       -2       1         0       0   \n",
      "39749    25.93      0.00     0.00      47      110       1         1       1   \n",
      "39754    43.74      1.67     0.00      48      100       1         0       0   \n",
      "39760    39.99      4.00     0.00      48       99       1         0       0   \n",
      "39762    42.89    103.33    39.00      38      110       1         0       0   \n",
      "39773    44.19     31.33   105.00      20      113       1         1       0   \n",
      "39780   123.98     93.00    13.00      48       25       1         0       0   \n",
      "39781    55.96     16.33     1.00      46       41       1         0       0   \n",
      "39785    60.19     26.33     6.67      47       54       1         0       0   \n",
      "39790    23.10      0.00     0.00      54       34       1         0       0   \n",
      "39791    14.29     37.33    16.00      50      152       1         1       0   \n",
      "39793    82.60     51.67    70.33      42      156       1         1       0   \n",
      "39794   122.11    154.33   123.67      23       76       1         0       0   \n",
      "39798   145.80     92.00     6.33      55       20       1         1       0   \n",
      "39812   149.43    329.00   229.00      11       99       1         0       0   \n",
      "39832    45.95     23.33    73.33      47       62       1         0       0   \n",
      "39835    76.99    290.00   224.33      11      101       1         0       0   \n",
      "39850    99.15    251.67   174.33      28       91       1         1       0   \n",
      "39852   185.30    178.67   171.00      41       44       1         1       0   \n",
      "39855   151.49    128.67   175.33      47        9       1         1       0   \n",
      "\n",
      "       pcown  creditcd  retcalls  churndep  \n",
      "0          0         0         4         1  \n",
      "4          0         1         3         1  \n",
      "5          0         0         2         1  \n",
      "6          1         1         2         1  \n",
      "9          0         0         2         1  \n",
      "14         0         0         2         1  \n",
      "19         0         1         1         1  \n",
      "20         0         1         1         1  \n",
      "28         0         0         2         1  \n",
      "32         1         1         2         1  \n",
      "34         0         1         2         1  \n",
      "35         0         1         2         1  \n",
      "44         0         0         1         1  \n",
      "56         0         1         1         1  \n",
      "57         0         1         2         1  \n",
      "60         1         1         1         1  \n",
      "71         0         1         1         1  \n",
      "74         1         1         1         1  \n",
      "79         0         1         2         1  \n",
      "88         1         1         1         1  \n",
      "89         0         1         1         1  \n",
      "94         0         1         1         1  \n",
      "97         0         0         1         1  \n",
      "100        1         1         2         1  \n",
      "101        1         1         2         1  \n",
      "104        0         1         2         1  \n",
      "108        0         0         2         1  \n",
      "110        0         0         1         1  \n",
      "112        0         1         1         1  \n",
      "126        0         0         1         1  \n",
      "...      ...       ...       ...       ...  \n",
      "39696      0         1         0         0  \n",
      "39701      0         0         0         0  \n",
      "39702      0         1         0         0  \n",
      "39716      0         0         0         0  \n",
      "39722      0         1         0         0  \n",
      "39724      0         1         0         0  \n",
      "39726      0         1         0         0  \n",
      "39731      0         1         0         0  \n",
      "39733      0         1         0         0  \n",
      "39738      0         1         0         0  \n",
      "39745      0         1         0         0  \n",
      "39749      1         1         0         0  \n",
      "39754      0         1         0         0  \n",
      "39760      0         1         0         0  \n",
      "39762      0         1         0         0  \n",
      "39773      0         1         0         0  \n",
      "39780      0         1         0         0  \n",
      "39781      0         1         0         0  \n",
      "39785      0         1         0         0  \n",
      "39790      0         0         0         0  \n",
      "39791      0         1         0         0  \n",
      "39793      0         1         0         0  \n",
      "39794      0         1         0         0  \n",
      "39798      0         1         0         0  \n",
      "39812      0         0         0         0  \n",
      "39832      0         0         0         0  \n",
      "39835      0         0         0         0  \n",
      "39850      0         1         0         0  \n",
      "39852      1         1         0         0  \n",
      "39855      0         1         0         0  \n",
      "\n",
      "[7972 rows x 12 columns]\n"
     ]
    }
   ],
   "source": [
    "#sample function returns a random sample of items from an axis of object.\n",
    "train_df=entire_dataFrame.sample(frac=0.8)\n",
    "test_df=entire_dataFrame.drop(train_df.index)\n"
   ]
  },
  {
   "cell_type": "markdown",
   "metadata": {},
   "source": [
    "<h1>Method-2</h1>\n",
    "<p> Using random function to split the dataset. This was done just to see the difference in the output of the two cases and using which method gives better accuracy. As it gave almost similar results, I used the train_df and test_df from above in the entire assignment</p>"
   ]
  },
  {
   "cell_type": "code",
   "execution_count": 3,
   "metadata": {
    "collapsed": true
   },
   "outputs": [],
   "source": [
    "TRAIN_SIZE = 0.80\n",
    "# Create boolean mask\n",
    "# np.random creates a vector of random values between 0 and 1\n",
    "# Those values are filtered to create a binary mask\n",
    "msk = np.random.rand(len(entire_dataFrame)) < TRAIN_SIZE\n",
    "\n",
    "train_df_Option2 = entire_dataFrame[msk]  \n",
    "test_df_Option2 = entire_dataFrame[~msk]\n",
    "\n"
   ]
  },
  {
   "cell_type": "markdown",
   "metadata": {},
   "source": [
    "2\\. If we had to, how would we prove to ourselves or a colleague that our data was indeed randomly sampled on X? And by prove, I mean empirically, not just showing this person our code. Don't actually do the work, just describe in your own words a test you could here. Hint: think about this in terms of selection bias and use notes from our 2nd lecture."
   ]
  },
  {
   "cell_type": "markdown",
   "metadata": {},
   "source": [
    "<h3>Answer</h3>\n",
    "<p>Distributing the dataframe into training set and test set using the <b>random()</b> function or the <b>sample()</b> function randomly distributes the data points instead of being biased towards any attributes. Every analysis starts by drawing a data sample S from a\n",
    "population D. In our case we want to draw two Samples S_training, S_test from the population D.\n",
    "        Each instance is characterized by a set of features (revenue, outcalls,travels etc)\n",
    "        If being in the sample S_training, S_test is independent on any of those features, the sample is unbiased.\n",
    "As we have randomly selected the data points, they are free from biases and hence are indeed randomly sampled.</p>\n",
    "<br>We can also run a test to see whether the rate of churn in training data is the same as the rate of churn in the whole dataset, and the the rate of churn in testing data is the same as the rate of churn in the whole dataset. That is, P(churn/training)=P(churn) and P(churn/testing)=P(churn). (This means there is no selection bias. Being in the training set or testing set is independent of being churn or not.)</br>\n"
   ]
  },
  {
   "cell_type": "markdown",
   "metadata": {},
   "source": []
  },
  {
   "cell_type": "markdown",
   "metadata": {},
   "source": [
    "3\\. Now build and train a decision tree classifier using `DecisionTreeClassifier()` [(manual page)](http://scikit-learn.org/stable/modules/generated/sklearn.tree.DecisionTreeClassifier.html) on train_df to predict the `\"churndep\"` target variable. Make sure to use `criterion='entropy'` when instantiating an instance of `DecisionTreeClassifier()`. For all other settings you should use all of the default options."
   ]
  },
  {
   "cell_type": "code",
   "execution_count": 12,
   "metadata": {},
   "outputs": [
    {
     "data": {
      "text/plain": [
       "(31886, 11)"
      ]
     },
     "execution_count": 12,
     "metadata": {},
     "output_type": "execute_result"
    }
   ],
   "source": [
    "import sklearn\n",
    "from sklearn.tree import DecisionTreeClassifier\n",
    "# Create decision tree classifer object using entropy\n",
    "#the usage of defining random_state is to make sure the splitted dataset is the same even if we split the dataset again and again. \n",
    "#It is actually only used to make sure we can reproduce the exact same dataset again.\n",
    "clf = DecisionTreeClassifier(criterion='entropy',random_state=0)\n",
    "#We have to divide the train_df into target variable and other attributes\n",
    "attributes_train_df=train_df[train_df.columns[:11]]\n",
    "target_train_df=train_df[train_df.columns[-1]]\n",
    "clf= clf.fit(attributes_train_df, target_train_df)\n",
    "#Returns the feature importances.\n",
    "importances = clf.feature_importances_\n",
    "\n",
    "attributes_train_df.shape\n"
   ]
  },
  {
   "cell_type": "markdown",
   "metadata": {},
   "source": [
    "4\\. Using the resulting model from 2.2, show a bar plot of feature names and their feature importance (hint: check the attributes of the `DecisionTreeClassifier()` object directly in IPython or check the manual!)."
   ]
  },
  {
   "cell_type": "code",
   "execution_count": 24,
   "metadata": {},
   "outputs": [
    {
     "data": {
      "image/png": "[encoded data removed]",
      "text/plain": [
       "<matplotlib.figure.Figure at 0x11103e358>"
      ]
     },
     "metadata": {},
     "output_type": "display_data"
    }
   ],
   "source": [
    "import matplotlib.pyplot as plt\n",
    "%matplotlib inline\n",
    "plt.figure(figsize=(10,10))\n",
    "# Plot the feature importances of the forest\n",
    "#set the title of the plot\n",
    "plt.title(\"Feature importances\")\n",
    "#plot the bar plot\n",
    "plt.bar(range(attributes_train_df.shape[1]), importances,color=\"r\", align=\"center\",width=0.5)\n",
    "plt.xticks(np.arange(len(importances)),entire_dataFrame.columns,rotation='vertical')\n",
    "plt.ylabel(\"feature-importance\")\n",
    "plt.show()\n"
   ]
  },
  {
   "cell_type": "markdown",
   "metadata": {},
   "source": [
    "5\\. Is the relationship between the top 3 most important features (as measured here) negative or positive? If your marketing director asked you to explain the top 3 drivers of churn, how would you interpret the relationship between these 3 features and the churn outcome?  What \"real-life\" connection can you draw between each variable and churn?"
   ]
  },
  {
   "cell_type": "code",
   "execution_count": 6,
   "metadata": {},
   "outputs": [
    {
     "data": {
      "text/html": [
       "<div>\n",
       "<style>\n",
       "    .dataframe thead tr:only-child th {\n",
       "        text-align: right;\n",
       "    }\n",
       "\n",
       "    .dataframe thead th {\n",
       "        text-align: left;\n",
       "    }\n",
       "\n",
       "    .dataframe tbody tr th {\n",
       "        vertical-align: top;\n",
       "    }\n",
       "</style>\n",
       "<table border=\"1\" class=\"dataframe\">\n",
       "  <thead>\n",
       "    <tr style=\"text-align: right;\">\n",
       "      <th></th>\n",
       "      <th>revenue</th>\n",
       "      <th>outcalls</th>\n",
       "      <th>eqpdays</th>\n",
       "    </tr>\n",
       "  </thead>\n",
       "  <tbody>\n",
       "    <tr>\n",
       "      <th>revenue</th>\n",
       "      <td>1.000000</td>\n",
       "      <td>0.500869</td>\n",
       "      <td>-0.221956</td>\n",
       "    </tr>\n",
       "    <tr>\n",
       "      <th>outcalls</th>\n",
       "      <td>0.500869</td>\n",
       "      <td>1.000000</td>\n",
       "      <td>-0.243991</td>\n",
       "    </tr>\n",
       "    <tr>\n",
       "      <th>eqpdays</th>\n",
       "      <td>-0.221956</td>\n",
       "      <td>-0.243991</td>\n",
       "      <td>1.000000</td>\n",
       "    </tr>\n",
       "  </tbody>\n",
       "</table>\n",
       "</div>"
      ],
      "text/plain": [
       "           revenue  outcalls   eqpdays\n",
       "revenue   1.000000  0.500869 -0.221956\n",
       "outcalls  0.500869  1.000000 -0.243991\n",
       "eqpdays  -0.221956 -0.243991  1.000000"
      ]
     },
     "execution_count": 6,
     "metadata": {},
     "output_type": "execute_result"
    }
   ],
   "source": [
    "# Code/answer here\n",
    "#The top three important features is revenue, outcalls, eqpdays.\n",
    "#correlation helps us calculate the relationship between the attributes of the dataset.\n",
    "#correlation matrix, is used to investigate the dependence between multiple variables at the same time\n",
    "correlation = entire_dataFrame[['revenue','outcalls','eqpdays']].corr()\n",
    "#Each element on the principal diagonal of a correlation matrix is the correlation of a random variable with itself, which always equals 1. \n",
    "#Each off-diagonal element is between 1 and –1 inclusive.\n",
    "correlation\n",
    "\n"
   ]
  },
  {
   "cell_type": "code",
   "execution_count": 7,
   "metadata": {},
   "outputs": [
    {
     "data": {
      "text/html": [
       "<div>\n",
       "<style>\n",
       "    .dataframe thead tr:only-child th {\n",
       "        text-align: right;\n",
       "    }\n",
       "\n",
       "    .dataframe thead th {\n",
       "        text-align: left;\n",
       "    }\n",
       "\n",
       "    .dataframe tbody tr th {\n",
       "        vertical-align: top;\n",
       "    }\n",
       "</style>\n",
       "<table border=\"1\" class=\"dataframe\">\n",
       "  <thead>\n",
       "    <tr style=\"text-align: right;\">\n",
       "      <th></th>\n",
       "      <th>revenue</th>\n",
       "      <th>outcalls</th>\n",
       "      <th>eqpdays</th>\n",
       "    </tr>\n",
       "  </thead>\n",
       "  <tbody>\n",
       "    <tr>\n",
       "      <th>revenue</th>\n",
       "      <td>1.000000</td>\n",
       "      <td>0.500869</td>\n",
       "      <td>0.221956</td>\n",
       "    </tr>\n",
       "    <tr>\n",
       "      <th>outcalls</th>\n",
       "      <td>0.500869</td>\n",
       "      <td>1.000000</td>\n",
       "      <td>0.243991</td>\n",
       "    </tr>\n",
       "    <tr>\n",
       "      <th>eqpdays</th>\n",
       "      <td>0.221956</td>\n",
       "      <td>0.243991</td>\n",
       "      <td>1.000000</td>\n",
       "    </tr>\n",
       "  </tbody>\n",
       "</table>\n",
       "</div>"
      ],
      "text/plain": [
       "           revenue  outcalls   eqpdays\n",
       "revenue   1.000000  0.500869  0.221956\n",
       "outcalls  0.500869  1.000000  0.243991\n",
       "eqpdays   0.221956  0.243991  1.000000"
      ]
     },
     "execution_count": 7,
     "metadata": {},
     "output_type": "execute_result"
    }
   ],
   "source": [
    "correlation_abs = entire_dataFrame[['revenue','outcalls','eqpdays']].corr().abs()\n",
    "correlation_abs\n"
   ]
  },
  {
   "cell_type": "markdown",
   "metadata": {},
   "source": [
    "<h1> Relationship between the 3 most important features to predict churn. </h1>\n",
    "<h3>The sign of the correlation tells us whether the two variables are positively or negatively related. The absolute value tells us how strong the relationship is.</h3>\n",
    "<p> We can see that feature <font color='red'><b>revenue</b></font> is <font color='blue'>positively correlated</font> with the feature <font color='red'><b>outcalls</b></font> but <font color='blue'>negatively correlated</font> with the feature <font color='red'>eqpdays</font>. Thus when the outcalls is more(positive), the revenue will be more and when it is less , the revenue will be less.<p>\n",
    "<p> Thus, <font color='red'><b>eqp days</b></font> is <font color='blue'>negatively correlated</font> with <font color='red'>outcalls and revenue</font>. If the eqpdays increases , both outcalls and revenue will decrease and vice-versa.</p>"
   ]
  },
  {
   "cell_type": "code",
   "execution_count": 8,
   "metadata": {},
   "outputs": [
    {
     "data": {
      "text/html": [
       "<div>\n",
       "<style>\n",
       "    .dataframe thead tr:only-child th {\n",
       "        text-align: right;\n",
       "    }\n",
       "\n",
       "    .dataframe thead th {\n",
       "        text-align: left;\n",
       "    }\n",
       "\n",
       "    .dataframe tbody tr th {\n",
       "        vertical-align: top;\n",
       "    }\n",
       "</style>\n",
       "<table border=\"1\" class=\"dataframe\">\n",
       "  <thead>\n",
       "    <tr style=\"text-align: right;\">\n",
       "      <th></th>\n",
       "      <th>revenue</th>\n",
       "      <th>outcalls</th>\n",
       "      <th>eqpdays</th>\n",
       "      <th>churndep</th>\n",
       "    </tr>\n",
       "  </thead>\n",
       "  <tbody>\n",
       "    <tr>\n",
       "      <th>revenue</th>\n",
       "      <td>1.000000</td>\n",
       "      <td>0.500869</td>\n",
       "      <td>-0.221956</td>\n",
       "      <td>-0.013561</td>\n",
       "    </tr>\n",
       "    <tr>\n",
       "      <th>outcalls</th>\n",
       "      <td>0.500869</td>\n",
       "      <td>1.000000</td>\n",
       "      <td>-0.243991</td>\n",
       "      <td>-0.037223</td>\n",
       "    </tr>\n",
       "    <tr>\n",
       "      <th>eqpdays</th>\n",
       "      <td>-0.221956</td>\n",
       "      <td>-0.243991</td>\n",
       "      <td>1.000000</td>\n",
       "      <td>0.112698</td>\n",
       "    </tr>\n",
       "    <tr>\n",
       "      <th>churndep</th>\n",
       "      <td>-0.013561</td>\n",
       "      <td>-0.037223</td>\n",
       "      <td>0.112698</td>\n",
       "      <td>1.000000</td>\n",
       "    </tr>\n",
       "  </tbody>\n",
       "</table>\n",
       "</div>"
      ],
      "text/plain": [
       "           revenue  outcalls   eqpdays  churndep\n",
       "revenue   1.000000  0.500869 -0.221956 -0.013561\n",
       "outcalls  0.500869  1.000000 -0.243991 -0.037223\n",
       "eqpdays  -0.221956 -0.243991  1.000000  0.112698\n",
       "churndep -0.013561 -0.037223  0.112698  1.000000"
      ]
     },
     "execution_count": 8,
     "metadata": {},
     "output_type": "execute_result"
    }
   ],
   "source": [
    "#Relationship between the three important features and churndep\n",
    "correlation_churndep = entire_dataFrame[['revenue','outcalls','eqpdays','churndep']].corr()\n",
    "correlation_churndep"
   ]
  },
  {
   "cell_type": "markdown",
   "metadata": {},
   "source": [
    "<h1> Relationship between the 3 most important features and churndep. </h1>\n",
    "<p>The <font color='red'><b> churndep</b></font> is positively correlated with <font color='red'>eqpdays</font>, but it is negatively correlated with <font color='red'><b>revenue</b></font> and <font color='red'><b>outcalls</b></font>.</p>\n",
    "<font color='blue'><p> If the revenue of the company will be low, there will be high churning of customers as people are bound to leave a company which isn't making much money. If customers come to know that the company isn't making high profits, trust with the brand usually decreases. Also, if the customers are having a lower mean average income, they will not be able to afford the subscription fees and will churn.<p></font>\n",
    "<font color='green'><p>Also, if the company is making a low number of outbound calls it may be that customers are not receiving adequate customer service from the company. They may not be receiving follow up calls or assistance with respect to their equipment. Hence they leave. Thus this negative relationship is quite plausible in real life.</p></font>\n",
    "<font color='blue'><p>On the other hand if customers are having one equipment with them for a long time, it may be that they are looking for a new equipment, they are looking to invest in newer technology, better products and a change and their churn rate will be higher.\n",
    "</p></font>"
   ]
  },
  {
   "cell_type": "markdown",
   "metadata": {},
   "source": [
    "6\\. Using the classifier built in 2.3, try predicting `\"churndep\"` on both the train_df and test_df data sets. What is the accuracy on each? If they are different, can you explain the difference?"
   ]
  },
  {
   "cell_type": "code",
   "execution_count": 25,
   "metadata": {},
   "outputs": [
    {
     "name": "stdout",
     "output_type": "stream",
     "text": [
      "Accuracy from the training data set prediction is 99.9843191369 %\n"
     ]
    }
   ],
   "source": [
    "# Code here\n",
    "from sklearn.metrics import accuracy_score\n",
    "\n",
    "train_data=train_df.drop('churndep',axis=1)\n",
    "test_data=test_df.drop('churndep',axis=1)\n",
    "\n",
    "prediction_train_df=clf.predict(train_data)\n",
    "prediction_test_df=clf.predict(test_data)\n",
    "\n",
    "accuracyTrain=accuracy_score(prediction_train_df,train_df['churndep'])\n",
    "print(\"Accuracy from the training data set prediction is\",accuracyTrain*100,\"%\")"
   ]
  },
  {
   "cell_type": "code",
   "execution_count": 10,
   "metadata": {},
   "outputs": [
    {
     "name": "stdout",
     "output_type": "stream",
     "text": [
      "Accuracy from the test data set prediction is 53.8760662318 %\n"
     ]
    }
   ],
   "source": [
    "accuracyTest=accuracy_score(prediction_test_df,test_df['churndep'])\n",
    "print(\"Accuracy from the test data set prediction is\",accuracyTest*100,\"%\")\n"
   ]
  },
  {
   "cell_type": "markdown",
   "metadata": {},
   "source": [
    "<h1> Difference in accuracy between test data set and train data set:</h1>\n",
    "<p>The ultimate goal of decision tree-based models is to split the tree such that each leaf node corresponds to the prediction of a single class, even if there is only one sample in that class. However, this can lead to the tree radically overfitting the data. This is an example of overfitting. <b>Overfitting happens when the decision tree continues to grow and reduces the training set error, but at the expense of the test set error.</b> </p>"
   ]
  },
  {
   "cell_type": "markdown",
   "metadata": {},
   "source": [
    "### Part 3 - Finding a Good Decision Tree\n",
    "The default options for your decision tree may not be optimal. We need to analyze whether tuning the parameters can improve the accuracy of the classifier.  For the following options `min_samples_split` and `min_samples_leaf`:"
   ]
  },
  {
   "cell_type": "markdown",
   "metadata": {},
   "source": [
    "1\\. Generate a list of 10 values of each for the parameters min_samples_split and min_samples_leaf. "
   ]
  },
  {
   "cell_type": "code",
   "execution_count": 11,
   "metadata": {},
   "outputs": [
    {
     "name": "stdout",
     "output_type": "stream",
     "text": [
      "[560, 583, 800, 942, 508, 617, 678, 833, 552, 998] [77, 78, 73, 71, 72, 76, 60, 62, 81, 94]\n"
     ]
    }
   ],
   "source": [
    "#Leaf is the end node of a decision tree. A smaller leaf makes the model more prone to capturing noise in train data.\n",
    "#min_samples_split is the minimum number of samples required to split an internal node.\n",
    "#min_samples_leaf is the minimum number of samples required to be in a leaf node.\n",
    "import random\n",
    "min_samples_split_values = []\n",
    "min_samples_leaf=[]\n",
    "for i in range(10):\n",
    "    min_samples_split_values.append(random.randint(500,1000))\n",
    "    min_samples_leaf.append(random.randint(50,100))\n",
    "#min_samples_split_values.sort()\n",
    "#min_samples_leaf.sort()\n",
    "print(min_samples_split_values,min_samples_leaf)"
   ]
  },
  {
   "cell_type": "markdown",
   "metadata": {},
   "source": [
    "2\\. Explain in words your reasoning for choosing the above ranges."
   ]
  },
  {
   "cell_type": "markdown",
   "metadata": {},
   "source": []
  },
  {
   "cell_type": "markdown",
   "metadata": {},
   "source": [
    "<h2> Reason for choosing such ranges: </h2>\n",
    "<p> We need to have a certain number of samples in the dataset to allow a split to occur. This is given by <font color='red'>min_samples_split</font>. After the split occurs, we need to have a certain number of samples in a leaf node. If the leaf has lesser samples, we can reject the split. This is given by  <font color='red'>min_samples_leaf</font>.</p> \n",
    "<p>Thus we need the range of the <font color='red'>min_samples_split</font> to be greater than the range of the <font color='red'>min_samples_leaf</font>. To prevent overfitting in the decision tree, I have chosen a larger value for the min_samples_leaf.\n",
    "<h3>Thus:</h3>\n",
    "<br><b>(n_node_samples < 2 * min_samples_leaf)</b><br>\n",
    "<br><b>(n_node_samples < min_samples_split)</b></br></p>"
   ]
  },
  {
   "cell_type": "markdown",
   "metadata": {},
   "source": [
    "3\\. For each combination of values in 3.1 (there should be 100), build a new classifier and check the classifier's accuracy on the test data. Plot the test set accuracy for these options. Use the values of `min_samples_split` as the x-axis and generate a new series (line) for each of `min_samples_leaf`."
   ]
  },
  {
   "cell_type": "code",
   "execution_count": 12,
   "metadata": {},
   "outputs": [
    {
     "data": {
      "image/png": "[encoded data removed]",
      "text/plain": [
       "<matplotlib.figure.Figure at 0x11568c278>"
      ]
     },
     "metadata": {},
     "output_type": "display_data"
    },
    {
     "name": "stdout",
     "output_type": "stream",
     "text": [
      "Thus the maximum accuracy is 61.4525840442 for the min_samples_split value 508 and min_samples_leaf 60\n"
     ]
    }
   ],
   "source": [
    "import matplotlib.pyplot as plt\n",
    "%matplotlib inline\n",
    "import sklearn\n",
    "from sklearn.tree import DecisionTreeClassifier\n",
    "from sklearn.metrics import accuracy_score\n",
    "def newClassifier(min_leaf,min_split):\n",
    "    clf=DecisionTreeClassifier(criterion='entropy',min_samples_leaf=min_leaf,min_samples_split=min_split)\n",
    "    clf= clf.fit(test_df[['revenue', 'outcalls','incalls','months','eqpdays','webcap','marryyes','travel','pcown','creditcd','retcalls']], test_df['churndep'])\n",
    "    prediction=clf.predict(test_data)\n",
    "    accuracy=accuracy_score(prediction,test_df['churndep'])\n",
    "    return accuracy\n",
    "\n",
    "#plt.subplots() is a function that returns a tuple containing a figure and axes object(s). \n",
    "#Thus when using fig, ax = plt.subplots() you unpack this tuple into the variables fig and ax. \n",
    "ax=plt.subplots()\n",
    "plt.title('Test set accuracy')\n",
    "accuracy=[]\n",
    "min_samples_splits=[]\n",
    "dictionary={}\n",
    "\n",
    "#For each split_size of the leaf, let there be 10 split_sizes for the min_sample size\n",
    "\n",
    "for i in range(10):\n",
    "    for j in range(10):\n",
    "        individual_accuracy=newClassifier(min_samples_leaf[i],min_samples_split_values[j])\n",
    "        #cast the values into a tuple and add them to the accuracy which is a list\n",
    "        accuracy.append((individual_accuracy,min_samples_split_values[j],min_samples_leaf[i]))\n",
    "        dictionary[min_samples_split_values[j]]=individual_accuracy\n",
    "    result_list=[(v, k) for k, v in dictionary.items()]\n",
    "    result_list=sorted(result_list)\n",
    "    splts,acc=zip(*result_list)\n",
    "    plt.plot(acc,splts,label=min_samples_leaf[i])\n",
    "    plt.ylabel('accuracy')\n",
    "    plt.xlabel('min_samples_split')\n",
    "\n",
    "plt.legend(bbox_to_anchor=(1.5, 1),loc = 10)\n",
    "plt.show()\n",
    "\n",
    "        \n",
    "tuples=max(accuracy)\n",
    "print(\"Thus the maximum accuracy is\",tuples[0]*100, \"for the min_samples_split value\",tuples[1],\"and min_samples_leaf\",tuples[2])\n",
    "\n",
    "        "
   ]
  },
  {
   "cell_type": "markdown",
   "metadata": {},
   "source": [
    "4\\. Which configuration returns the best accuracy? What is this accuracy? (Note, if you don't see much variation in the test set accuracy across values of min_samples_split or min_samples_leaf, try redoing the above steps with a different range of values)."
   ]
  },
  {
   "cell_type": "code",
   "execution_count": 21,
   "metadata": {},
   "outputs": [
    {
     "name": "stdout",
     "output_type": "stream",
     "text": [
      "Thus the maximum accuracy is 61.4400401405 for the min_samples_split value 542 and min_samples_leaf 53\n"
     ]
    }
   ],
   "source": [
    "# Code here\n",
    "print(\"Thus the maximum accuracy is\",tuples[0]*100, \"for the min_samples_split value\",tuples[1],\"and min_samples_leaf\",tuples[2])\n"
   ]
  },
  {
   "cell_type": "markdown",
   "metadata": {},
   "source": [
    "<h2> References from the internet are:</h2>\n",
    "<p>https://blog.nelsonliu.me/2016/08/05/gsoc-week-10-scikit-learn-pr-6954-adding-pre-pruning-to-decisiontrees/<p>\n",
    "<p>stackoverflow.com<p>\n",
    "<p>https://blog.kissmetrics.com/modeling-churn/<p>\n"
   ]
  },
  {
   "cell_type": "markdown",
   "metadata": {},
   "source": [
    "5\\. If you were working for a marketing department, how would you use your churn production model in a real business environment? Explain why churn prediction might be good for the business and how one might improve churn by using this model."
   ]
  },
  {
   "cell_type": "markdown",
   "metadata": {},
   "source": [
    "<h3>Churn Prediction Model:</h3>\n",
    "<p>Churn prediction consists of detecting which customers are likely to cancel a subscription to a service based on how they use the service. Using this model we figured out that eqpdays, revenue and outcalls are the three most important features causing customer churn. Once we know these factors, as a marketing person we may work on methods to improve these services for the company to prevent churn.</p>\n",
    "<font color='blue'><p>The primary driver of churn is <b>Revenue</b>. I will try to focus on building some business strategy to impact both  higher mean income families and lower mean income families. Example: Joining coupons, seasonal discounts, student offers, family-plan offers can make many customers enroll for the program. </p></font>\n",
    "<font color='red'><p>The second driver of churn is <bold>\"eqpdays\"</bold>.Providing customers with better calling support, better customer service and feedback mechanism could be some ways.</p>\n",
    "<font color='green'><p>Finally, \"eqpdays\" is also a prime cause of churn.Thus changing the equipments they use after a certain period of time by providing exciting exchange offers, providing them with better technology equipment can be some changes we can bring to the company after using this model to predict customer churn. It is always important to focus on market research to see what the competitor industry is doing and to find ways to establish and edge over them.\n",
    "</p></font>\n"
   ]
  },
  {
   "cell_type": "code",
   "execution_count": null,
   "metadata": {
    "collapsed": true
   },
   "outputs": [],
   "source": []
  }
 ],
 "metadata": {
  "anaconda-cloud": {},
  "kernelspec": {
   "display_name": "Python 3",
   "language": "python",
   "name": "python3"
  },
  "language_info": {
   "codemirror_mode": {
    "name": "ipython",
    "version": 3
   },
   "file_extension": ".py",
   "mimetype": "text/x-python",
   "name": "python",
   "nbconvert_exporter": "python",
   "pygments_lexer": "ipython3",
   "version": "3.6.3"
  }
 },
 "nbformat": 4,
 "nbformat_minor": 1
}
