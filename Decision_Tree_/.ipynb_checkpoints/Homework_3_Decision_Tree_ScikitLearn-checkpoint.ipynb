{
 "cells": [
  {
   "cell_type": "markdown",
   "metadata": {},
   "source": [
    "# Introduction to Data Science\n",
    "## Homework 3"
   ]
  },
  {
   "cell_type": "markdown",
   "metadata": {},
   "source": [
    "Student Name: Titash Mandal\n",
    "\n",
    "Student Netid: tm2761\n",
    "***"
   ]
  },
  {
   "cell_type": "markdown",
   "metadata": {},
   "source": [
    "### Part 1\n",
    "Assume that $X$ and $Y$ are discrete random variables. The formulas for Mutual Information, Entropy and Conditional Entropy are given by:\n",
    "\n",
    "$$\\text{Mutual Information} = \\sum_{y \\in Y} \\sum_{x \\in X} p(x, y) \\cdot log\\frac{p(x, y)}{p(x)p(y)}$$\n",
    "\n",
    "$$\\text{Entropy} = H(Y) = -\\sum_{y \\in Y} p(y) \\cdot log(p(y))$$\n",
    "\n",
    "$$\\text{Conditional Entropy} = H(Y \\mid X) = \\sum_{x \\in X} p(x) \\cdot H(Y \\mid X = x)$$\n",
    "\n",
    "Show mathematically that $\\text{Mutual Information} = \\text{Information Gain}$, where $\\text{Information Gain} = H(Y) – H(Y \\mid X)$. Give the derivation below (note, this can be done using Latek math notation, which renders nicely. See above. Feel free to do it by hand and submit an image of your proof)."
   ]
  },
  {
   "cell_type": "markdown",
   "metadata": {},
   "source": [
    "Place your answer here!\n"
   ]
  },
  {
   "cell_type": "markdown",
   "metadata": {},
   "source": [
    "### Part 2 - Preparing a Training Set and Training a Decision Tree\n",
    "This is a hands-on task where we build a predictive model using Decision Trees discussed in class. For this part, we will be using the data in `cell2cell_data.csv`.\n",
    "\n",
    "These historical data consist of 39,859 customers: 19,901 customers that churned (i.e., left the company) and 19,958 that did not churn (see the `\"churndep\"` variable). Here are the data set's 11 possible predictor variables for churning behavior: \n",
    "\n",
    "```\n",
    "Pos.  Var. Name  Var. Description\n",
    "----- ---------- --------------------------------------------------------------\n",
    "1     revenue    Mean monthly revenue in dollars\n",
    "2     outcalls   Mean number of outbound voice calls\n",
    "3     incalls    Mean number of inbound voice calls\n",
    "4     months     Months in Service\n",
    "5     eqpdays    Number of days the customer has had his/her current equipment\n",
    "6     webcap     Handset is web capable\n",
    "7     marryyes   Married (1=Yes; 0=No)\n",
    "8     travel     Has traveled to non-US country (1=Yes; 0=No)\n",
    "9     pcown      Owns a personal computer (1=Yes; 0=No)\n",
    "10    creditcd   Possesses a credit card (1=Yes; 0=No)\n",
    "11    retcalls   Number of calls previously made to retention team\n",
    "```\n",
    "\n",
    "The 12th column, the target variable `\"churndep\"`, equals 1 if the customer churned, and 0 otherwise. "
   ]
  },
  {
   "cell_type": "markdown",
   "metadata": {},
   "source": [
    "1\\. Load the data and prepare it for modeling. Note that the features are already processed for you, so the only thing needed here is split the data into training and testing. Use pandas to create two data frames: train_df and test_df, where train_df has 80% of the data chosen uniformly at random without replacement (test_df should have the other 20%). Also, make sure to write your own code to do the splits. You may use any random() function numpy but DO NOT use the data splitting functions from Sklearn."
   ]
  },
  {
   "cell_type": "code",
   "execution_count": 74,
   "metadata": {
    "collapsed": true
   },
   "outputs": [],
   "source": [
    "import pandas as pd\n",
    "import numpy as np\n",
    "entire_dataFrame=pd.read_csv('cell2cell_data.csv')\n",
    "entire_dataFrame.columns = ['revenue', 'outcalls','incalls','months','eqpdays','webcap','marryyes','travel','pcown','creditcd','retcalls','churndep']\n"
   ]
  },
  {
   "cell_type": "markdown",
   "metadata": {},
   "source": [
    "<h1>Method-1</h1>"
   ]
  },
  {
   "cell_type": "code",
   "execution_count": 73,
   "metadata": {
    "collapsed": true
   },
   "outputs": [],
   "source": [
    "#sample function returns a random sample of items from an axis of object.\n",
    "train_df=entire_dataFrame.sample(frac=0.8)\n",
    "test_df=entire_dataFrame.drop(train_df.index)\n"
   ]
  },
  {
   "cell_type": "markdown",
   "metadata": {},
   "source": [
    "<h1>Method-2</h1>"
   ]
  },
  {
   "cell_type": "code",
   "execution_count": 7,
   "metadata": {
    "collapsed": true
   },
   "outputs": [],
   "source": [
    "TRAIN_SIZE = 0.80\n",
    "# Create boolean mask\n",
    "# np.random creates a vector of random values between 0 and 1\n",
    "# Those values are filtered to create a binary mask\n",
    "msk = np.random.rand(len(entire_dataFrame)) < TRAIN_SIZE\n",
    "\n",
    "train_df_Option2 = entire_dataFrame[msk]  \n",
    "test_df_Option2 = entire_dataFrame[~msk]\n"
   ]
  },
  {
   "cell_type": "markdown",
   "metadata": {},
   "source": [
    "2\\. If we had to, how would we prove to ourselves or a colleague that our data was indeed randomly sampled on X? And by prove, I mean empirically, not just showing this person our code. Don't actually do the work, just describe in your own words a test you could here. Hint: think about this in terms of selection bias and use notes from our 2nd lecture."
   ]
  },
  {
   "cell_type": "markdown",
   "metadata": {},
   "source": [
    "<h3>Answer</h3>\n",
    "<p>Distributing the dataframe into training set and test set using the <b>random()</b> function or the <b>sample()</b> function randomly distributes the data points instead of being biased towards any attributes. Every analysis starts by drawing a data sample S from a\n",
    "population D. In our case we want to draw two Samples S_training, S_test from the population D.\n",
    "        Each instance is characterized by a set of features (revenue, outcalls,travels etc)\n",
    "        If being in the sample S_training, S_test is independent on any of those features, the sample is unbiased.\n",
    "As we have randomly selected the data points, they are free from biases and hence are indeed randomly sampled.\n",
    "We can also run a test to see whether the rate of churn in training data is the same as the rate of churn in the whole dataset, and the the rate of churn in testing data is the same as the rate of churn in the whole dataset. That is, P(churn/training)=P(churn) and P(churn/testing)=P(churn). (This means there is no selection bias. Being in the training set or testing set is independent of being churn or not.)</p>\n"
   ]
  },
  {
   "cell_type": "markdown",
   "metadata": {},
   "source": []
  },
  {
   "cell_type": "markdown",
   "metadata": {},
   "source": [
    "3\\. Now build and train a decision tree classifier using `DecisionTreeClassifier()` [(manual page)](http://scikit-learn.org/stable/modules/generated/sklearn.tree.DecisionTreeClassifier.html) on train_df to predict the `\"churndep\"` target variable. Make sure to use `criterion='entropy'` when instantiating an instance of `DecisionTreeClassifier()`. For all other settings you should use all of the default options."
   ]
  },
  {
   "cell_type": "code",
   "execution_count": 85,
   "metadata": {
    "collapsed": true
   },
   "outputs": [],
   "source": [
    "import sklearn\n",
    "from sklearn.tree import DecisionTreeClassifier\n",
    "# Create decision tree classifer object using entropy\n",
    "#the usage of defining random_state is to make sure the splitted dataset is the same even if we split the dataset again and again. \n",
    "#It is actually only used to make sure we can reproduce the exact same dataset again.\n",
    "clf = DecisionTreeClassifier(criterion='entropy',random_state=0)\n",
    "#We have to divide the train_df into target variable and other attributes\n",
    "attributes_train_df=train_df[train_df.columns[:11]]\n",
    "target_train_df=train_df[train_df.columns[-1]]\n",
    "clf= clf.fit(attributes_train_df, target_train_df)\n",
    "#Returns the feature importances.\n",
    "importances = clf.feature_importances_\n",
    "\n"
   ]
  },
  {
   "cell_type": "markdown",
   "metadata": {},
   "source": [
    "4\\. Using the resulting model from 2.2, show a bar plot of feature names and their feature importance (hint: check the attributes of the `DecisionTreeClassifier()` object directly in IPython or check the manual!)."
   ]
  },
  {
   "cell_type": "code",
   "execution_count": 86,
   "metadata": {},
   "outputs": [
    {
     "data": {
      "image/png": "[encoded data removed]",
      "text/plain": [
       "<matplotlib.figure.Figure at 0x1a21ba1eb8>"
      ]
     },
     "metadata": {},
     "output_type": "display_data"
    }
   ],
   "source": [
    "import matplotlib.pyplot as plt\n",
    "%matplotlib inline\n",
    "# Plot the feature importances of the forest\n",
    "plt.figure()\n",
    "#set the title of the plot\n",
    "plt.title(\"Feature importances\")\n",
    "#plot the bar plot\n",
    "plt.bar(range(attributes_train_df.shape[1]), importances,color=\"r\", align=\"center\",width=0.5)\n",
    "plt.xticks(np.arange(len(importances)),entire_dataFrame.columns,rotation='vertical')\n",
    "plt.ylabel(\"feature-importance\")\n",
    "plt.show()\n"
   ]
  },
  {
   "cell_type": "markdown",
   "metadata": {},
   "source": [
    "5\\. Is the relationship between the top 3 most important features (as measured here) negative or positive? If your marketing director asked you to explain the top 3 drivers of churn, how would you interpret the relationship between these 3 features and the churn outcome?  What \"real-life\" connection can you draw between each variable and churn?"
   ]
  },
  {
   "cell_type": "code",
   "execution_count": 10,
   "metadata": {},
   "outputs": [
    {
     "data": {
      "text/html": [
       "<div>\n",
       "<style>\n",
       "    .dataframe thead tr:only-child th {\n",
       "        text-align: right;\n",
       "    }\n",
       "\n",
       "    .dataframe thead th {\n",
       "        text-align: left;\n",
       "    }\n",
       "\n",
       "    .dataframe tbody tr th {\n",
       "        vertical-align: top;\n",
       "    }\n",
       "</style>\n",
       "<table border=\"1\" class=\"dataframe\">\n",
       "  <thead>\n",
       "    <tr style=\"text-align: right;\">\n",
       "      <th></th>\n",
       "      <th>revenue</th>\n",
       "      <th>outcalls</th>\n",
       "      <th>eqpdays</th>\n",
       "    </tr>\n",
       "  </thead>\n",
       "  <tbody>\n",
       "    <tr>\n",
       "      <th>revenue</th>\n",
       "      <td>1.000000</td>\n",
       "      <td>0.500869</td>\n",
       "      <td>-0.221956</td>\n",
       "    </tr>\n",
       "    <tr>\n",
       "      <th>outcalls</th>\n",
       "      <td>0.500869</td>\n",
       "      <td>1.000000</td>\n",
       "      <td>-0.243991</td>\n",
       "    </tr>\n",
       "    <tr>\n",
       "      <th>eqpdays</th>\n",
       "      <td>-0.221956</td>\n",
       "      <td>-0.243991</td>\n",
       "      <td>1.000000</td>\n",
       "    </tr>\n",
       "  </tbody>\n",
       "</table>\n",
       "</div>"
      ],
      "text/plain": [
       "           revenue  outcalls   eqpdays\n",
       "revenue   1.000000  0.500869 -0.221956\n",
       "outcalls  0.500869  1.000000 -0.243991\n",
       "eqpdays  -0.221956 -0.243991  1.000000"
      ]
     },
     "execution_count": 10,
     "metadata": {},
     "output_type": "execute_result"
    }
   ],
   "source": [
    "# Code/answer here\n",
    "#The top three important features is revenue, outcalls, eqpdays.\n",
    "#correlation helps us calculate the relationship between the attributes of the dataset.\n",
    "#correlation matrix, is used to investigate the dependence between multiple variables at the same time\n",
    "correlation = entire_dataFrame[['revenue','outcalls','eqpdays']].corr()\n",
    "#Each element on the principal diagonal of a correlation matrix is the correlation of a random variable with itself, which always equals 1. \n",
    "#Each off-diagonal element is between 1 and –1 inclusive.\n",
    "correlation\n",
    "\n"
   ]
  },
  {
   "cell_type": "code",
   "execution_count": 11,
   "metadata": {},
   "outputs": [
    {
     "data": {
      "text/html": [
       "<div>\n",
       "<style>\n",
       "    .dataframe thead tr:only-child th {\n",
       "        text-align: right;\n",
       "    }\n",
       "\n",
       "    .dataframe thead th {\n",
       "        text-align: left;\n",
       "    }\n",
       "\n",
       "    .dataframe tbody tr th {\n",
       "        vertical-align: top;\n",
       "    }\n",
       "</style>\n",
       "<table border=\"1\" class=\"dataframe\">\n",
       "  <thead>\n",
       "    <tr style=\"text-align: right;\">\n",
       "      <th></th>\n",
       "      <th>revenue</th>\n",
       "      <th>outcalls</th>\n",
       "      <th>eqpdays</th>\n",
       "    </tr>\n",
       "  </thead>\n",
       "  <tbody>\n",
       "    <tr>\n",
       "      <th>revenue</th>\n",
       "      <td>1.000000</td>\n",
       "      <td>0.500869</td>\n",
       "      <td>0.221956</td>\n",
       "    </tr>\n",
       "    <tr>\n",
       "      <th>outcalls</th>\n",
       "      <td>0.500869</td>\n",
       "      <td>1.000000</td>\n",
       "      <td>0.243991</td>\n",
       "    </tr>\n",
       "    <tr>\n",
       "      <th>eqpdays</th>\n",
       "      <td>0.221956</td>\n",
       "      <td>0.243991</td>\n",
       "      <td>1.000000</td>\n",
       "    </tr>\n",
       "  </tbody>\n",
       "</table>\n",
       "</div>"
      ],
      "text/plain": [
       "           revenue  outcalls   eqpdays\n",
       "revenue   1.000000  0.500869  0.221956\n",
       "outcalls  0.500869  1.000000  0.243991\n",
       "eqpdays   0.221956  0.243991  1.000000"
      ]
     },
     "execution_count": 11,
     "metadata": {},
     "output_type": "execute_result"
    }
   ],
   "source": [
    "correlation_abs = entire_dataFrame[['revenue','outcalls','eqpdays']].corr().abs()\n",
    "correlation_abs\n"
   ]
  },
  {
   "cell_type": "markdown",
   "metadata": {},
   "source": [
    "<h1> Relationship between the 3 most important features to predict churn. </h1>\n",
    "<h3>The sign of the correlation tells us whether the two variables are positively or negatively related. The absolute value tells us how strong the relationship is.</h3>\n",
    "<p> We can see that feature <font color='red'><b>revenue</b></font> is <font color='blue'>positively correlated</font> with the feature <font color='red'><b>outcalls</b></font> but <font color='blue'>negatively correlated</font> with the feature <font color='red'>eqpdays</font>. Thus when the outcalls is more(positive), the revenue will be more and when it is less , the revenue will be less.<p>\n",
    "<p> Thus, <font color='red'><b>eqp days</b></font> is <font color='blue'>negatively correlated</font> with <font color='red'>outcalls and revenue</font>. If the eqpdays increases , both outcalls and revenue will decrease and vice-versa.</p>"
   ]
  },
  {
   "cell_type": "code",
   "execution_count": 12,
   "metadata": {},
   "outputs": [
    {
     "data": {
      "text/html": [
       "<div>\n",
       "<style>\n",
       "    .dataframe thead tr:only-child th {\n",
       "        text-align: right;\n",
       "    }\n",
       "\n",
       "    .dataframe thead th {\n",
       "        text-align: left;\n",
       "    }\n",
       "\n",
       "    .dataframe tbody tr th {\n",
       "        vertical-align: top;\n",
       "    }\n",
       "</style>\n",
       "<table border=\"1\" class=\"dataframe\">\n",
       "  <thead>\n",
       "    <tr style=\"text-align: right;\">\n",
       "      <th></th>\n",
       "      <th>revenue</th>\n",
       "      <th>outcalls</th>\n",
       "      <th>eqpdays</th>\n",
       "      <th>churndep</th>\n",
       "    </tr>\n",
       "  </thead>\n",
       "  <tbody>\n",
       "    <tr>\n",
       "      <th>revenue</th>\n",
       "      <td>1.000000</td>\n",
       "      <td>0.500869</td>\n",
       "      <td>-0.221956</td>\n",
       "      <td>-0.013561</td>\n",
       "    </tr>\n",
       "    <tr>\n",
       "      <th>outcalls</th>\n",
       "      <td>0.500869</td>\n",
       "      <td>1.000000</td>\n",
       "      <td>-0.243991</td>\n",
       "      <td>-0.037223</td>\n",
       "    </tr>\n",
       "    <tr>\n",
       "      <th>eqpdays</th>\n",
       "      <td>-0.221956</td>\n",
       "      <td>-0.243991</td>\n",
       "      <td>1.000000</td>\n",
       "      <td>0.112698</td>\n",
       "    </tr>\n",
       "    <tr>\n",
       "      <th>churndep</th>\n",
       "      <td>-0.013561</td>\n",
       "      <td>-0.037223</td>\n",
       "      <td>0.112698</td>\n",
       "      <td>1.000000</td>\n",
       "    </tr>\n",
       "  </tbody>\n",
       "</table>\n",
       "</div>"
      ],
      "text/plain": [
       "           revenue  outcalls   eqpdays  churndep\n",
       "revenue   1.000000  0.500869 -0.221956 -0.013561\n",
       "outcalls  0.500869  1.000000 -0.243991 -0.037223\n",
       "eqpdays  -0.221956 -0.243991  1.000000  0.112698\n",
       "churndep -0.013561 -0.037223  0.112698  1.000000"
      ]
     },
     "execution_count": 12,
     "metadata": {},
     "output_type": "execute_result"
    }
   ],
   "source": [
    "#Relationship between the three important features and churndep\n",
    "correlation_churndep = entire_dataFrame[['revenue','outcalls','eqpdays','churndep']].corr()\n",
    "correlation_churndep"
   ]
  },
  {
   "cell_type": "markdown",
   "metadata": {},
   "source": [
    "<h1> Relationship between the 3 most important features and churndep. </h1>\n",
    "<p>The <font color='red'><b> churndep</b></font> is positively correlated with <font color='red'>eqpdays</font>, but it is negatively correlated with <font color='red'><b>revenue</b></font> and <font color='red'><b>outcalls</b></font>.</p>\n",
    "<font color='blue'><p> If the revenue of the company will be low, there will be high churning of customers as people are bound to leave a company which isn't making much money. If customers come to know that the company isn't making high profits, trust with the brand usually decreases. Also, if the customers are having a lower mean average income, they will not be able to afford the subscription fees and will churn.<p></font>\n",
    "<font color='green'><p>Also, if the company is making a low number of outbound calls it may be that customers are not receiving adequate customer service from the company. They may not be receiving follow up calls or assistance with respect to their equipment. Hence they leave. Thus this negative relationship is quite plausible in real life.</p></font>\n",
    "<font color='blue'><p>On the other hand if customers are having one equipment with them for a long time, it may be that they are looking for a new equipment, they are looking to invest in newer technology, better products and a change and their churn rate will be higher.\n",
    "</p></font>"
   ]
  },
  {
   "cell_type": "markdown",
   "metadata": {},
   "source": [
    "6\\. Using the classifier built in 2.3, try predicting `\"churndep\"` on both the train_df and test_df data sets. What is the accuracy on each? If they are different, can you explain the difference?"
   ]
  },
  {
   "cell_type": "code",
   "execution_count": 39,
   "metadata": {},
   "outputs": [
    {
     "name": "stdout",
     "output_type": "stream",
     "text": [
      "Accuracy from the training data set prediction is 99.9811829643 %\n"
     ]
    }
   ],
   "source": [
    "# Code here\n",
    "from sklearn.metrics import accuracy_score\n",
    "train_data=train_df.drop('churndep',axis=1)\n",
    "test_data=test_df.drop('churndep',axis=1)\n",
    "prediction_train_df=clf.predict(train_data)\n",
    "prediction_test_df=clf.predict(test_data)\n",
    "accuracyTrain=accuracy_score(prediction_train_df,train_df['churndep'])\n",
    "print(\"Accuracy from the training data set prediction is\",accuracyTrain*100,\"%\")"
   ]
  },
  {
   "cell_type": "code",
   "execution_count": 38,
   "metadata": {},
   "outputs": [
    {
     "name": "stdout",
     "output_type": "stream",
     "text": [
      "Accuracy from the test data set prediction is 53.2237832413 %\n"
     ]
    }
   ],
   "source": [
    "accuracyTest=accuracy_score(prediction_test_df,test_df['churndep'])\n",
    "print(\"Accuracy from the test data set prediction is\",accuracyTest*100,\"%\")\n"
   ]
  },
  {
   "cell_type": "markdown",
   "metadata": {},
   "source": [
    "<h1> Difference in accuracy between test data set and train data set:</h1>\n",
    "<p>The ultimate goal of decision tree-based models is to split the tree such that each leaf node corresponds to the prediction of a single class, even if there is only one sample in that class. However, this can lead to the tree radically overfitting the data. This is an example of overfitting. <b>Overfitting happens when the decision tree continues to grow and reduces the training set error, but at the expense of the test set error.</b> </p>"
   ]
  },
  {
   "cell_type": "markdown",
   "metadata": {},
   "source": [
    "### Part 3 - Finding a Good Decision Tree\n",
    "The default options for your decision tree may not be optimal. We need to analyze whether tuning the parameters can improve the accuracy of the classifier.  For the following options `min_samples_split` and `min_samples_leaf`:"
   ]
  },
  {
   "cell_type": "markdown",
   "metadata": {},
   "source": [
    "1\\. Generate a list of 10 values of each for the parameters min_samples_split and min_samples_leaf. "
   ]
  },
  {
   "cell_type": "code",
   "execution_count": 97,
   "metadata": {},
   "outputs": [
    {
     "name": "stdout",
     "output_type": "stream",
     "text": [
      "[984, 548, 500, 845, 699, 603, 610, 803, 551, 646]\n",
      "[51, 62, 83, 60, 92, 72, 70, 83, 82, 91]\n"
     ]
    }
   ],
   "source": [
    "#Leaf is the end node of a decision tree. A smaller leaf makes the model more prone to capturing noise in train data.\n",
    "#min_samples_split is the minimum number of samples required to split an internal node.\n",
    "#min_samples_leaf is the minimum number of samples required to be in a leaf node.\n",
    "import random\n",
    "min_samples_split_values = []\n",
    "min_samples_leaf=[]\n",
    "for i in range(10):\n",
    "    min_samples_split_values.append(random.randint(500,1000))\n",
    "    min_samples_leaf.append(random.randint(50,100))\n",
    "print(min_samples_split_values)\n",
    "print(min_samples_leaf)\n",
    "#min_samples_leaf_values = None"
   ]
  },
  {
   "cell_type": "markdown",
   "metadata": {},
   "source": [
    "2\\. Explain in words your reasoning for choosing the above ranges."
   ]
  },
  {
   "cell_type": "markdown",
   "metadata": {},
   "source": []
  },
  {
   "cell_type": "markdown",
   "metadata": {},
   "source": [
    "<h2> Reason for choosing such ranges: </h2>\n",
    "<p> We need to have a certain number of samples in the dataset to allow a split to occur. This is given by <font color='red'>min_samples_split</font>. After the split occurs, we need to have a certain number of samples in a leaf node. If the leaf has lesser samples, we can reject the split. This is given by  <font color='red'>min_samples_leaf</font>.</p> \n",
    "<p>Thus we need the range of the <font color='red'>min_samples_split</font> to be greater than the range of the <font color='red'>min_samples_leaf</font>. To prevent overfitting in the decision tree, I have chosen a larger value for the min_samples_leaf.\n",
    "<h3>Thus:</h3>\n",
    "<br><b>(n_node_samples < 2 * min_samples_leaf)</b><br>\n",
    "<br><b>(n_node_samples < min_samples_split)</b></br></p>"
   ]
  },
  {
   "cell_type": "markdown",
   "metadata": {},
   "source": [
    "3\\. For each combination of values in 3.1 (there should be 100), build a new classifier and check the classifier's accuracy on the test data. Plot the test set accuracy for these options. Use the values of `min_samples_split` as the x-axis and generate a new series (line) for each of `min_samples_leaf`."
   ]
  },
  {
   "cell_type": "code",
   "execution_count": 98,
   "metadata": {},
   "outputs": [
    {
     "data": {
      "image/png": "[encoded data removed]",
      "text/plain": [
       "<matplotlib.figure.Figure at 0x1a20a7e240>"
      ]
     },
     "metadata": {},
     "output_type": "display_data"
    },
    {
     "name": "stdout",
     "output_type": "stream",
     "text": [
      "Thus the maximum accuracy is 60.0978424486 for the min_samples_split value 551 and min_samples_leaf 92\n"
     ]
    }
   ],
   "source": [
    "import matplotlib.pyplot as plt\n",
    "%matplotlib inline\n",
    "import sklearn\n",
    "from sklearn.tree import DecisionTreeClassifier\n",
    "from sklearn.metrics import accuracy_score\n",
    "def newClassifier(min_leaf,min_split):\n",
    "    clf=DecisionTreeClassifier(criterion='entropy',min_samples_leaf=min_leaf,min_samples_split=min_split)\n",
    "    clf= clf.fit(test_df[['revenue', 'outcalls','incalls','months','eqpdays','webcap','marryyes','travel','pcown','creditcd','retcalls']], test_df['churndep'])\n",
    "    prediction=clf.predict(test_data)\n",
    "    accuracy=accuracy_score(prediction,test_df['churndep'])\n",
    "    return accuracy\n",
    "\n",
    "#plt.subplots() is a function that returns a tuple containing a figure and axes object(s). \n",
    "#Thus when using fig, ax = plt.subplots() you unpack this tuple into the variables fig and ax. \n",
    "ax=plt.subplots()\n",
    "plt.title('Test set accuracy')\n",
    "accuracy=[]\n",
    "min_samples_splits=[]\n",
    "dictionary={}\n",
    "\n",
    "#For each split_size of the leaf, let there be 10 split_sizes for the min_sample size\n",
    "\n",
    "for i in range(10):\n",
    "    for j in range(10):\n",
    "        individual_accuracy=newClassifier(min_samples_leaf[i],min_samples_split_values[j])\n",
    "        #cast the values into a tuple and add them to the accuracy which is a list\n",
    "        accuracy.append((individual_accuracy,min_samples_split_values[j],min_samples_leaf[i]))\n",
    "        dictionary[min_samples_split_values[j]]=individual_accuracy\n",
    "    result_list=[(v, k) for k, v in dictionary.items()]\n",
    "    result_list=sorted(result_list)\n",
    "    splts,acc=zip(*result_list)\n",
    "    plt.plot(acc,splts,label=min_samples_leaf[i])\n",
    "    plt.ylabel('accuracy')\n",
    "    plt.xlabel('min_samples_split')\n",
    "\n",
    "plt.legend(bbox_to_anchor=(1.5, 1),loc = 10)\n",
    "plt.show()\n",
    "\n",
    "        \n",
    "tuples=max(accuracy)\n",
    "print(\"Thus the maximum accuracy is\",tuples[0]*100, \"for the min_samples_split value\",tuples[1],\"and min_samples_leaf\",tuples[2])\n",
    "\n",
    "        "
   ]
  },
  {
   "cell_type": "markdown",
   "metadata": {},
   "source": [
    "4\\. Which configuration returns the best accuracy? What is this accuracy? (Note, if you don't see much variation in the test set accuracy across values of min_samples_split or min_samples_leaf, try redoing the above steps with a different range of values)."
   ]
  },
  {
   "cell_type": "code",
   "execution_count": 88,
   "metadata": {},
   "outputs": [
    {
     "name": "stdout",
     "output_type": "stream",
     "text": [
      "Thus the maximum accuracy is 60.0978424486 for the min_samples_split value 529 and min_samples_leaf 92\n"
     ]
    }
   ],
   "source": [
    "# Code here\n",
    "print(\"Thus the maximum accuracy is\",tuples[0]*100, \"for the min_samples_split value\",tuples[1],\"and min_samples_leaf\",tuples[2])\n"
   ]
  },
  {
   "cell_type": "markdown",
   "metadata": {},
   "source": [
    "<h2> References from the internet are:</h2>\n",
    "<p>https://blog.nelsonliu.me/2016/08/05/gsoc-week-10-scikit-learn-pr-6954-adding-pre-pruning-to-decisiontrees/<p>\n",
    "<p>stackoverflow.com<p>\n",
    "<p>https://blog.kissmetrics.com/modeling-churn/<p>\n"
   ]
  },
  {
   "cell_type": "markdown",
   "metadata": {},
   "source": [
    "5\\. If you were working for a marketing department, how would you use your churn production model in a real business environment? Explain why churn prediction might be good for the business and how one might improve churn by using this model."
   ]
  },
  {
   "cell_type": "markdown",
   "metadata": {},
   "source": [
    "<h3>Churn Prediction Model:</h3>\n",
    "<p>Churn prediction consists of detecting which customers are likely to cancel a subscription to a service based on how they use the service. Using this model we figured out that eqpdays, revenue and outcalls are the three most important features causing customer churn. Once we know these factors, as a marketing person we may work on methods to improve these services for the company to prevent churn.</p>\n",
    "<font color='blue'><p>The primary driver of churn is <b>Revenue</b>. I will try to focus on building some business strategy to impact both  higher mean income families and lower mean income families. Example: Joining coupons, seasonal discounts, student offers, family-plan offers can make many customers enroll for the program. </p></font>\n",
    "<font color='red'><p>The second driver of churn is <bold>\"eqpdays\"</bold>.Providing customers with better calling support, better customer service and feedback mechanism could be some ways.</p>\n",
    "<font color='green'><p>Finally, \"eqpdays\" is also a prime cause of churn.Thus changing the equipments they use after a certain period of time by providing exciting exchange offers, providing them with better technology equipment can be some changes we can bring to the company after using this model to predict customer churn. It is always important to focus on market research to see what the competitor industry is doing and to find ways to establish and edge over them.\n",
    "</p></font>\n"
   ]
  },
  {
   "cell_type": "code",
   "execution_count": null,
   "metadata": {
    "collapsed": true
   },
   "outputs": [],
   "source": []
  }
 ],
 "metadata": {
  "anaconda-cloud": {},
  "kernelspec": {
   "display_name": "Python 3",
   "language": "python",
   "name": "python3"
  },
  "language_info": {
   "codemirror_mode": {
    "name": "ipython",
    "version": 3
   },
   "file_extension": ".py",
   "mimetype": "text/x-python",
   "name": "python",
   "nbconvert_exporter": "python",
   "pygments_lexer": "ipython3",
   "version": "3.6.2"
  }
 },
 "nbformat": 4,
 "nbformat_minor": 1
}
